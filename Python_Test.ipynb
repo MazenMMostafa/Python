{
 "cells": [
  {
   "cell_type": "markdown",
   "id": "cf2d5830-c440-4628-9b2d-b0eebe5e9b14",
   "metadata": {},
   "source": [
    "# <b><span style=color:#770fe5>Introduction:\n",
    "### <b><span style=\"color:#0072e3\">Source Code:<span style=\"color:White\"> the main Code\n",
    "### <b><span style=\"color:#0072e3\">Compilation:<span style=\"color:White\"> it comes from compiler the compiler is the tool that convert the programming language from english letters to machine language before run time (C,C++,C#,Rust)\n",
    "### <b><span style=\"color:#0072e3\">Run time:<span style=\"color:White\"> execution time period\n",
    "### <b><span style=\"color:#0072e3\">Interpreted:<span style=\"color:White\"> comes from interpreter the code is converted during run time (Python,Java,Ruby)\n"
   ]
  },
  {
   "cell_type": "code",
   "execution_count": null,
   "id": "5a5b33e7-7840-4fb9-9cfe-1ce94aec6c32",
   "metadata": {},
   "outputs": [],
   "source": [
    "print(\"Mazen Mounir\")"
   ]
  },
  {
   "cell_type": "markdown",
   "id": "bf7e0c2e-df2d-4083-b563-a614089667a6",
   "metadata": {},
   "source": [
    "# Printing String in two lines"
   ]
  },
  {
   "cell_type": "code",
   "execution_count": null,
   "id": "4139f964-8842-4829-8c67-38ea9fb77214",
   "metadata": {},
   "outputs": [],
   "source": [
    "print(\"Mazen\")\n",
    "print(\"Mounir\")"
   ]
  },
  {
   "cell_type": "markdown",
   "id": "53d9a5f3-5fac-4de2-ac37-4fafa0c934a4",
   "metadata": {},
   "source": [
    "# Printing String in two lines in one print"
   ]
  },
  {
   "cell_type": "code",
   "execution_count": null,
   "id": "a96b2f9f-014e-46a2-b1a8-06ad65854383",
   "metadata": {},
   "outputs": [],
   "source": [
    "print(\"Mazen\\nMounir\")"
   ]
  },
  {
   "cell_type": "markdown",
   "id": "41879397-7a14-47c1-b16e-5c33bd81eb1d",
   "metadata": {},
   "source": [
    "# <span style=\"color:Red\">Errors\n",
    "## Error types:\n",
    "###  Syntax Error\n",
    "###  Logic Error"
   ]
  },
  {
   "cell_type": "markdown",
   "id": "3987ec6d-811b-4ef4-bc65-723bc0cb7c38",
   "metadata": {},
   "source": [
    "# <b><span style=color:#770fe5>Syntax:\n",
    "Syntax is the coding grammer and writing rules"
   ]
  },
  {
   "cell_type": "code",
   "execution_count": null,
   "id": "de99f349-e96a-4d5a-a237-df13d40420e1",
   "metadata": {},
   "outputs": [],
   "source": [
    "Print(\"Mazen\")"
   ]
  },
  {
   "cell_type": "code",
   "execution_count": null,
   "id": "e37c5919-4ff6-4d8f-ac65-c22d257d0125",
   "metadata": {},
   "outputs": [],
   "source": [
    "print(Mazen)"
   ]
  },
  {
   "cell_type": "code",
   "execution_count": null,
   "id": "29ec255a-03aa-4040-9165-ec81c0974053",
   "metadata": {},
   "outputs": [],
   "source": [
    "print Mazen"
   ]
  },
  {
   "cell_type": "code",
   "execution_count": null,
   "id": "9355c4a2-bfa4-4c89-a6c5-dd24a43156fd",
   "metadata": {},
   "outputs": [],
   "source": [
    "print[\"Mazen\"]"
   ]
  },
  {
   "cell_type": "code",
   "execution_count": null,
   "id": "3f745d50-056c-43fc-a981-724a872cc8b0",
   "metadata": {},
   "outputs": [],
   "source": [
    "print{\"Mazen\"}"
   ]
  },
  {
   "cell_type": "markdown",
   "id": "a1b6c573-1fe8-40e2-a534-64c665a95f77",
   "metadata": {},
   "source": [
    "# <b><span style=color:#770fe5>What is a variable?\n",
    "Variable is like a box that holding a thing. Example: x=\n",
    "Box holding numbers\n",
    "### <b>Types of numbers:\n",
    "Integers -> 1 2 3 4     ...etc: Integers is a whole numbers and their negative.\n",
    "Float -> 1.53 1.1 5.2   ...etc: Float is any number with decimal point and their negative.\n",
    "Complex -> 1+2j 3j 2-j  ...etc</span>: Complex is imaginary number by adding j and j=sqrt(-1)\n",
    "## <b>Box holding letters\n",
    "letters in programming called char and when we combine more than char we get string\n",
    "String is anything between \" \" or ' '\n",
    "## `'A'` `'a'` `\"B\"` `'b'` `'1'` `\"2\"` `'121341'` `\"Mazen\"` all these are strings"
   ]
  },
  {
   "cell_type": "code",
   "execution_count": null,
   "id": "5b890870-a4ad-4d00-a762-f0de16abf464",
   "metadata": {},
   "outputs": [],
   "source": [
    "x=5"
   ]
  },
  {
   "cell_type": "code",
   "execution_count": null,
   "id": "a4eb0844-7965-4144-914e-9d8b27b02e07",
   "metadata": {},
   "outputs": [],
   "source": [
    "print(x)"
   ]
  },
  {
   "cell_type": "code",
   "execution_count": null,
   "id": "f4e03a72-c104-4b4d-bc67-fc78af4a57b4",
   "metadata": {},
   "outputs": [],
   "source": [
    "y=50"
   ]
  },
  {
   "cell_type": "code",
   "execution_count": null,
   "id": "fe2feaa8-be70-4281-982b-68a7e44e8655",
   "metadata": {},
   "outputs": [],
   "source": [
    "print(y)\n",
    "y=1\n",
    "print(y)"
   ]
  },
  {
   "cell_type": "code",
   "execution_count": null,
   "id": "be218fb1-7185-4f50-8c3c-d90180ee9dff",
   "metadata": {},
   "outputs": [],
   "source": [
    "print(x+y)"
   ]
  },
  {
   "cell_type": "code",
   "execution_count": null,
   "id": "8fb34946-522e-4f49-8c87-325fd8b7c5ed",
   "metadata": {},
   "outputs": [],
   "source": [
    "q=w=e=r=\"Mazen Eyad Yahia Anas\""
   ]
  },
  {
   "cell_type": "code",
   "execution_count": null,
   "id": "c672d98d-b391-4e2f-a003-66f8f4020f48",
   "metadata": {},
   "outputs": [],
   "source": [
    "print(q,w,e,r)"
   ]
  },
  {
   "cell_type": "code",
   "execution_count": null,
   "id": "95f46593-4a28-4622-8f63-a6f01224af13",
   "metadata": {},
   "outputs": [],
   "source": [
    "Name=\"Mazen Mounir\"\n",
    "Job=\"Instructor\"\n",
    "Age=25\n",
    "GPA=3.8"
   ]
  },
  {
   "cell_type": "code",
   "execution_count": null,
   "id": "87ffd284-c5c0-4ae9-b1be-500c0ba36b50",
   "metadata": {},
   "outputs": [],
   "source": [
    "print(\"Username =\",Name)"
   ]
  },
  {
   "cell_type": "code",
   "execution_count": null,
   "id": "6ff5c1aa-a9e4-42f5-be23-137f8a33e8b9",
   "metadata": {},
   "outputs": [],
   "source": [
    "print(\"Position= \",Job)"
   ]
  },
  {
   "cell_type": "code",
   "execution_count": null,
   "id": "e881d47d-16c0-43dd-bb5f-30dc6a86e304",
   "metadata": {},
   "outputs": [],
   "source": [
    "print(\"Age=\",Age)"
   ]
  },
  {
   "cell_type": "code",
   "execution_count": null,
   "id": "4039ebc8-8986-4c67-a4df-992c05abad34",
   "metadata": {},
   "outputs": [],
   "source": [
    "print(\"GPA=\",GPA)"
   ]
  },
  {
   "cell_type": "code",
   "execution_count": null,
   "id": "ec2556ce-f468-4bca-b517-c382c6dbcb8a",
   "metadata": {},
   "outputs": [],
   "source": [
    "print(Name,Age,Job,GPA)"
   ]
  },
  {
   "cell_type": "markdown",
   "id": "6fc1effb-80ea-430f-a605-c270a955153e",
   "metadata": {},
   "source": [
    "# <span style=\"color:Red\">Logic Error"
   ]
  },
  {
   "cell_type": "code",
   "execution_count": null,
   "id": "18d22d90-13fb-490f-be03-d25c41862b4f",
   "metadata": {},
   "outputs": [],
   "source": [
    "print(\"Name\")"
   ]
  },
  {
   "cell_type": "code",
   "execution_count": null,
   "id": "c5416e81-abc6-495f-941a-7aaffbdd7579",
   "metadata": {},
   "outputs": [],
   "source": [
    "print(\"Job\")"
   ]
  },
  {
   "cell_type": "markdown",
   "id": "e3e01f41-ff21-4e94-b305-061a6096817a",
   "metadata": {},
   "source": [
    "# <b><span style=color:#770fe5>String"
   ]
  },
  {
   "cell_type": "code",
   "execution_count": null,
   "id": "d1e6218c-61e1-4944-987b-8c26d030af5a",
   "metadata": {},
   "outputs": [],
   "source": [
    "STR1='MAZEN MMGMH'"
   ]
  },
  {
   "cell_type": "markdown",
   "id": "390323db-eb2e-4f0a-8194-ecbfa84be6f7",
   "metadata": {},
   "source": [
    "# <b><span style=color:#770fe5>String Index\n",
    "## 'MAZEN'\n",
    "### M in index 0\n",
    "### A in index 1\n",
    "### Z in index 2\n",
    "### E in index 3\n",
    "### N in index 4"
   ]
  },
  {
   "cell_type": "code",
   "execution_count": null,
   "id": "68555759-81ce-4ea8-a023-2a16655c66c0",
   "metadata": {},
   "outputs": [],
   "source": [
    "#     01234\n",
    "STR1=\"Mazen\"\n",
    "print(STR1[0])\n",
    "print(STR1[1])\n",
    "print(STR1[2])\n",
    "print(STR1[3])\n",
    "print(STR1[4])"
   ]
  },
  {
   "cell_type": "markdown",
   "id": "619d7941-6fb0-4bd8-a4bb-8d4c7dc54526",
   "metadata": {},
   "source": [
    "# <b><span style=color:#770fe5>String Slicing\n",
    "## [Start:End:Step]\n",
    "### Start: The index of the first letter to include in the slice.\n",
    "### End: The index of the letter to stop before.\n",
    "### Step: The interval between elements to include in the slice.\n",
    "### Example:"
   ]
  },
  {
   "cell_type": "code",
   "execution_count": null,
   "id": "afb7a2a3-8aad-429d-a793-1c7fa83bad2c",
   "metadata": {},
   "outputs": [],
   "source": [
    "#     012345678910\n",
    "STR1='MAZEN MMGMH'\n",
    "print(STR1[10])\n",
    "print(STR1[0:10:1])"
   ]
  },
  {
   "cell_type": "markdown",
   "id": "88e87a18-d899-4e4f-a5fd-27f089df7f0b",
   "metadata": {},
   "source": [
    "### To Fix it:"
   ]
  },
  {
   "cell_type": "code",
   "execution_count": null,
   "id": "061c8dff-ffd5-4776-ac99-09d809b7a9a5",
   "metadata": {},
   "outputs": [],
   "source": [
    "print(STR1[0:11:1])"
   ]
  },
  {
   "cell_type": "markdown",
   "id": "eb0c69a3-838e-4127-8062-37e05b5a2c7c",
   "metadata": {},
   "source": [
    "## <span style=color:#dc5e5e>Increase Step"
   ]
  },
  {
   "cell_type": "code",
   "execution_count": null,
   "id": "64bea953-b9e5-47da-ab56-52e71000c776",
   "metadata": {},
   "outputs": [],
   "source": [
    "print(STR1[0:10:2])"
   ]
  },
  {
   "cell_type": "markdown",
   "id": "2dbbfa74-4c59-467f-b027-8f71ee735948",
   "metadata": {},
   "source": [
    "## <span style=color:#dc5e5e>Reverse the string"
   ]
  },
  {
   "cell_type": "code",
   "execution_count": null,
   "id": "de69667e-4193-4884-87f2-8f0bd4816a5d",
   "metadata": {},
   "outputs": [],
   "source": [
    "print(STR1[::-1])"
   ]
  },
  {
   "cell_type": "markdown",
   "id": "91325e35-e5f9-4ad8-8479-a87629615b48",
   "metadata": {},
   "source": [
    "## <span style=color:#dc5e5e>Print whole string with step of 1"
   ]
  },
  {
   "cell_type": "code",
   "execution_count": null,
   "id": "dac5d000-3d2a-4074-8d51-27b443414dfa",
   "metadata": {},
   "outputs": [],
   "source": [
    "print(STR1[::1])\n",
    "#change 1 to any number"
   ]
  },
  {
   "cell_type": "markdown",
   "id": "9bc33aa6-7367-47c1-b3c6-cf677e5d9856",
   "metadata": {},
   "source": [
    "## Some Examples:"
   ]
  },
  {
   "cell_type": "code",
   "execution_count": null,
   "id": "e927252c-bec0-4bd6-81ad-a677e4b13040",
   "metadata": {},
   "outputs": [],
   "source": [
    "#     012345678910\n",
    "# 0:10\n",
    "#:-1\n",
    "STR1='MAZEN MMGMH'\n",
    "print(STR1[0:5]) #MAZEN\n",
    "print(STR1[:-1]) #H not printed\n",
    "print(STR1[4:0:-1])\n",
    "print(STR1[4::-1])\n",
    "#Search for more and lets discuss"
   ]
  },
  {
   "cell_type": "markdown",
   "id": "0edc9b47-038c-49b3-b825-32e223bd4ba8",
   "metadata": {},
   "source": [
    "## <span style=color:#dc5e5e>String concatenate"
   ]
  },
  {
   "cell_type": "code",
   "execution_count": null,
   "id": "98f03a94-d374-473b-b557-6d9d1d13c868",
   "metadata": {},
   "outputs": [],
   "source": [
    "STR1='MAZEN MMGMH'\n",
    "STR2=\"mounir\"\n",
    "print(STR1+STR2)"
   ]
  },
  {
   "cell_type": "code",
   "execution_count": null,
   "id": "dde36688-6e7e-4f5c-b1aa-42fbf8d19f0b",
   "metadata": {},
   "outputs": [],
   "source": [
    "print(STR1+\" \"+STR2)"
   ]
  },
  {
   "cell_type": "markdown",
   "id": "186930f4-c970-4169-8c85-9d973c8da9e0",
   "metadata": {},
   "source": [
    "## <span style=color:#dc5e5e>More than print and output in 1 line"
   ]
  },
  {
   "cell_type": "code",
   "execution_count": null,
   "id": "9412a1f3-b2f9-4b18-a926-cf5a6b9fb7f8",
   "metadata": {},
   "outputs": [],
   "source": [
    "print(\"Hello\",end=' ')\n",
    "print(\"World\")"
   ]
  },
  {
   "cell_type": "markdown",
   "id": "8229ace8-15d8-4920-898f-469d60d0d955",
   "metadata": {},
   "source": [
    "# <b><span style=color:#770fe5>String Methods\n",
    "## <span style=color:#dc5e5e>capitalize()\n",
    "### it converts the first letter to upper case and the other letters to small"
   ]
  },
  {
   "cell_type": "code",
   "execution_count": null,
   "id": "77f90570-c590-4c5f-b761-72e400bd0726",
   "metadata": {},
   "outputs": [],
   "source": [
    "STR1='MAZEN MMGMH'\n",
    "STR2=\"mounir\"\n",
    "print(STR2.capitalize())\n",
    "print(STR1.capitalize())"
   ]
  },
  {
   "cell_type": "markdown",
   "id": "088f8ef7-9d00-496e-bb52-3609c7d7c939",
   "metadata": {},
   "source": [
    "## <span style=color:#dc5e5e>endswith()\n",
    "### it compares the last letter in the string with the letter you write in the ()\n",
    "### if found it returns true if not it returns false"
   ]
  },
  {
   "cell_type": "code",
   "execution_count": null,
   "id": "45ad9265-d9f1-4442-a382-b97ec0705cfe",
   "metadata": {},
   "outputs": [],
   "source": [
    "print(STR1.endswith('N'))"
   ]
  },
  {
   "cell_type": "code",
   "execution_count": null,
   "id": "d6418e35-c8b2-4b3e-9c50-01512bbf99da",
   "metadata": {},
   "outputs": [],
   "source": [
    "print(STR1.endswith('n'))"
   ]
  },
  {
   "cell_type": "markdown",
   "id": "8e502c82-76db-48cc-b171-767147b11220",
   "metadata": {},
   "source": [
    "## <span style=color:#dc5e5e>find()\n",
    "### it returns the index of the written in the bracket and returns -1 if not found"
   ]
  },
  {
   "cell_type": "code",
   "execution_count": null,
   "id": "17fdd379-393f-4a1b-9bca-ea45adc22146",
   "metadata": {},
   "outputs": [],
   "source": [
    "print(STR1.find('M'))\n",
    "print(STR1.find('e'))"
   ]
  },
  {
   "cell_type": "markdown",
   "id": "aacfab07-5984-4d99-ad3d-880a25bf5818",
   "metadata": {},
   "source": [
    "## <span style=color:#dc5e5e>index()\n",
    "### returns the index of the writtent in the bracket and makes error if not found"
   ]
  },
  {
   "cell_type": "code",
   "execution_count": null,
   "id": "ca498a2d-3428-4339-9f3d-33f9146f0ca6",
   "metadata": {},
   "outputs": [],
   "source": [
    "print(STR1.find('M'))\n",
    "print(STR1.index('e'))"
   ]
  },
  {
   "cell_type": "markdown",
   "id": "75d637e9-2d9b-4600-a746-e69ce5194384",
   "metadata": {},
   "source": [
    "## <span style=color:#dc5e5e>isalpha()\n",
    "### returns true if all string are alphabet only\n",
    "## <span style=color:#dc5e5e>isdigit()\n",
    "### return true if all string are digits"
   ]
  },
  {
   "cell_type": "code",
   "execution_count": null,
   "id": "9a917d83-9e07-4dd1-a1a5-9a8bde54b9bc",
   "metadata": {},
   "outputs": [],
   "source": [
    "STR1='MAZEN MMGMH'\n",
    "STR2=\"mounir\"\n",
    "print(STR1.isalpha())"
   ]
  },
  {
   "cell_type": "code",
   "execution_count": null,
   "id": "cdc7377a-c161-4802-a547-3427d2ba52d2",
   "metadata": {},
   "outputs": [],
   "source": [
    "print(STR2.isalpha())"
   ]
  },
  {
   "cell_type": "code",
   "execution_count": null,
   "id": "54b8b673-3550-42f6-ba98-79fdd3071b32",
   "metadata": {},
   "outputs": [],
   "source": [
    "print(STR1.isdigit())\n",
    "x='123'\n",
    "print(\"\",x.isdigit())"
   ]
  },
  {
   "cell_type": "code",
   "execution_count": null,
   "id": "63057a8d-089f-4e5a-9c59-469da0220272",
   "metadata": {},
   "outputs": [],
   "source": [
    "STR3='    Instructor'\n",
    "STR4='Python     '\n",
    "STR5='    Robokid Academy   '\n",
    "STR6=\"####Hey####\""
   ]
  },
  {
   "cell_type": "markdown",
   "id": "e32676c6-099e-4f5f-a600-2599c1f6d911",
   "metadata": {},
   "source": [
    "## <span style=color:#dc5e5e>strip()\n",
    "### it removes Leading spaces and Trailling spaces\n",
    "### it also removes any thing you put inside brackets\n",
    "## <span style=color:#dc5e5e>rstrip() \n",
    "### it removes from right\n",
    "## <span style=color:#dc5e5e>lstrip() \n",
    "### it removes from left"
   ]
  },
  {
   "cell_type": "code",
   "execution_count": null,
   "id": "8702cfa3-7c7d-43ef-9ad3-375c5410d1a2",
   "metadata": {},
   "outputs": [],
   "source": [
    "print(STR3.strip())"
   ]
  },
  {
   "cell_type": "code",
   "execution_count": null,
   "id": "c777eba2-0243-4d7a-8e06-010017862a6c",
   "metadata": {},
   "outputs": [],
   "source": [
    "print(STR4.strip()+STR1)"
   ]
  },
  {
   "cell_type": "code",
   "execution_count": null,
   "id": "957a1948-c2fb-4a7a-b283-56eaadbc7abb",
   "metadata": {},
   "outputs": [],
   "source": [
    "print(STR5.strip()+STR1)"
   ]
  },
  {
   "cell_type": "code",
   "execution_count": null,
   "id": "bea8ae40-d4a3-494a-872e-e49d24439ee3",
   "metadata": {},
   "outputs": [],
   "source": [
    "print(STR6.strip('#'))"
   ]
  },
  {
   "cell_type": "markdown",
   "id": "f6990a2f-6538-410f-9bb5-3886c2bf3cba",
   "metadata": {},
   "source": [
    "## <span style=color:#dc5e5e>split()\n",
    "### Splits the string at the specified separator"
   ]
  },
  {
   "cell_type": "code",
   "execution_count": null,
   "id": "f0eafbec-bbc2-48c2-b548-f0aba7361cbf",
   "metadata": {},
   "outputs": [],
   "source": [
    "print(STR3.split('r'))"
   ]
  },
  {
   "cell_type": "code",
   "execution_count": null,
   "id": "90951088-0eec-4f73-a189-9678272c1329",
   "metadata": {},
   "outputs": [],
   "source": [
    "print(STR6.split('#'))"
   ]
  },
  {
   "cell_type": "markdown",
   "id": "e9444484-1e31-40a0-8c94-1b20724b4606",
   "metadata": {},
   "source": [
    "## <span style=color:#dc5e5e>range()\n",
    "### `range(start,end)`\n",
    "### creates a range from start to end\n",
    "### `range(number)`\n",
    "### creates a range from 0 to number"
   ]
  },
  {
   "cell_type": "code",
   "execution_count": null,
   "id": "d1714942-d1a5-4449-8246-ad70e2cf610c",
   "metadata": {},
   "outputs": [],
   "source": [
    "print(range(2,9))"
   ]
  },
  {
   "cell_type": "code",
   "execution_count": null,
   "id": "045c459b-439e-4f78-8fc8-5c6a240223c8",
   "metadata": {},
   "outputs": [],
   "source": [
    "print(range(9))"
   ]
  },
  {
   "cell_type": "markdown",
   "id": "160f7815-0521-4bef-b7fb-024c546fa1b7",
   "metadata": {},
   "source": [
    "## <span style=color:#dc5e5e>len()\n",
    "### `len(Text)`\n",
    "### it returns the Text length"
   ]
  },
  {
   "cell_type": "code",
   "execution_count": null,
   "id": "586eccfa-3e1c-4f58-8f44-16bb5bcae9f8",
   "metadata": {},
   "outputs": [],
   "source": [
    "Name=\"Hello World\"\n",
    "print(len(Name))"
   ]
  },
  {
   "cell_type": "markdown",
   "id": "0bb739b5-0ed9-4b84-9314-192614d75137",
   "metadata": {},
   "source": [
    "# <span style=color:#770fe5>Check variable data type"
   ]
  },
  {
   "cell_type": "code",
   "execution_count": null,
   "id": "1f7c7bf1-020d-4cff-a4c2-8be2110e7bd3",
   "metadata": {},
   "outputs": [],
   "source": [
    "x=10\n",
    "y=3.1\n",
    "k=2+3j\n",
    "u='a'"
   ]
  },
  {
   "cell_type": "code",
   "execution_count": null,
   "id": "09f87934-12b6-412f-b833-9df99da648cb",
   "metadata": {},
   "outputs": [],
   "source": [
    "print(type(x))"
   ]
  },
  {
   "cell_type": "code",
   "execution_count": null,
   "id": "8f4f6fbf-92ee-431a-87a9-8de526e5e31b",
   "metadata": {},
   "outputs": [],
   "source": [
    "print(type(y))"
   ]
  },
  {
   "cell_type": "code",
   "execution_count": null,
   "id": "ee3305f8-f76f-46b3-9b18-e746431e0701",
   "metadata": {},
   "outputs": [],
   "source": [
    "print(type(u))"
   ]
  },
  {
   "cell_type": "code",
   "execution_count": null,
   "id": "5e4783f8-44f4-456e-8c25-ad7cfd8cc1cf",
   "metadata": {},
   "outputs": [],
   "source": [
    "print(type(k))"
   ]
  },
  {
   "cell_type": "markdown",
   "id": "a1d878e3-9a8d-4e2a-9cf9-e5dd9e6a6ce7",
   "metadata": {},
   "source": [
    "# <span style=color:#770fe5>User Input\n",
    "for example if we want to create a calculator the user must enter the numbers"
   ]
  },
  {
   "cell_type": "code",
   "execution_count": null,
   "id": "c56d6e8c-0f56-45ef-87d7-8709950c0372",
   "metadata": {},
   "outputs": [],
   "source": [
    "First_Number=input(\"Enter First Number: \")"
   ]
  },
  {
   "cell_type": "markdown",
   "id": "1cafcc44-c477-46f6-a3af-467bde45682c",
   "metadata": {},
   "source": [
    "### input its a method the takes data from user\n",
    "### input(\"Here Enter a messege to appear for user\")"
   ]
  },
  {
   "cell_type": "code",
   "execution_count": null,
   "id": "e89f9472-8382-4dc2-a836-8a36366297fc",
   "metadata": {},
   "outputs": [],
   "source": [
    "Second_Number=input(\"Enter Second Number: \")"
   ]
  },
  {
   "cell_type": "code",
   "execution_count": null,
   "id": "38a07b4b-0a1a-4dad-be98-fda9727c83b2",
   "metadata": {},
   "outputs": [],
   "source": [
    "print(First_Number+Second_Number)"
   ]
  },
  {
   "cell_type": "markdown",
   "id": "99ddb532-3208-4e64-a435-91e8b754405a",
   "metadata": {},
   "source": [
    "## <span style=color:#dc5e5e>Check input data type"
   ]
  },
  {
   "cell_type": "code",
   "execution_count": null,
   "id": "d8441c85-63c5-4c8c-9dca-2509ff5bd919",
   "metadata": {},
   "outputs": [],
   "source": [
    "print(type(First_Number))"
   ]
  },
  {
   "cell_type": "markdown",
   "id": "990fd926-4971-4ad8-96b7-7dc1ec05332b",
   "metadata": {},
   "source": [
    "## By default input is str"
   ]
  },
  {
   "cell_type": "markdown",
   "id": "8b90f1fe-ff0c-4401-8e31-742046d6c824",
   "metadata": {},
   "source": [
    "# <span style=color:#770fe5>Casting:\n",
    "## Casting is to change data type to another\n",
    "### `int()`\n",
    "### `float()`\n",
    "### `str()`\n",
    "## Search for more\n",
    "### <u><b>to fix earler problem to sum numbers from input:"
   ]
  },
  {
   "cell_type": "code",
   "execution_count": null,
   "id": "40f4f4ca-e44c-4a9b-966b-721e917e2d56",
   "metadata": {},
   "outputs": [],
   "source": [
    "First_Number=int(First_Number)\n",
    "Second_Number=int(Second_Number)"
   ]
  },
  {
   "cell_type": "code",
   "execution_count": null,
   "id": "8802273c-de3c-46db-a1b8-def8594a8b39",
   "metadata": {},
   "outputs": [],
   "source": [
    "print(type(First_Number))\n",
    "print(type(Second_Number))"
   ]
  },
  {
   "cell_type": "code",
   "execution_count": null,
   "id": "f54f9558-4f49-42f4-bb13-00a5b1d7b04b",
   "metadata": {},
   "outputs": [],
   "source": [
    "print(First_Number+Second_Number)"
   ]
  },
  {
   "cell_type": "markdown",
   "id": "75745ee0-966f-4385-b8b2-1cb8377894a1",
   "metadata": {},
   "source": [
    "## <b><u>Another way:"
   ]
  },
  {
   "cell_type": "code",
   "execution_count": null,
   "id": "9bf1977d-cffc-4031-85ed-3f6b5116ba56",
   "metadata": {},
   "outputs": [],
   "source": [
    "print(int(First_Number)+int(Second_Number))"
   ]
  },
  {
   "cell_type": "markdown",
   "id": "3ef73a04-30a7-456d-ab23-bb76d8e9f4f2",
   "metadata": {},
   "source": [
    "## <b><u>Note:\n",
    "### To make the user inputs to be only numbers use this\n",
    "## x=int(input(\"Enter Number\"))\n",
    "### This makes error when user enter anything other than numbers"
   ]
  },
  {
   "cell_type": "markdown",
   "id": "120e2f18-307c-48df-aefd-484a8c2f38fc",
   "metadata": {},
   "source": [
    "## <span style=color:#dc5e5e>format()\n",
    "### used to change numbers format :"
   ]
  },
  {
   "cell_type": "code",
   "execution_count": null,
   "id": "0d1cbf74-df10-486c-aba8-48cea6700f54",
   "metadata": {},
   "outputs": [],
   "source": [
    "number=1234.56789\n",
    "print(format(int(number),'x'))"
   ]
  },
  {
   "cell_type": "code",
   "execution_count": null,
   "id": "5bc09b3c-30a2-472c-90c0-fb82f5a434a2",
   "metadata": {},
   "outputs": [],
   "source": [
    "print(format(int(number),'b'))"
   ]
  },
  {
   "cell_type": "code",
   "execution_count": null,
   "id": "996880cc-2110-4771-a287-2d8e3bf3ca71",
   "metadata": {},
   "outputs": [],
   "source": [
    "print(\"Space Check\",format(number, '>20'),\"No Spacing\")"
   ]
  },
  {
   "cell_type": "code",
   "execution_count": null,
   "id": "c0a49c86-b027-46a7-97a2-96c2c2b91210",
   "metadata": {},
   "outputs": [],
   "source": [
    "print(\"No Spacing\",format(number,'<20'),\"Space Check\")"
   ]
  },
  {
   "cell_type": "code",
   "execution_count": null,
   "id": "ae1705a4-0c2c-44ba-8d80-bb63a2ebf6a2",
   "metadata": {},
   "outputs": [],
   "source": [
    "print(\"Space Check\",format(number,'^20'),\"Space Check\")"
   ]
  },
  {
   "cell_type": "markdown",
   "id": "708a088d-6851-4787-a5ba-5dba4a2bb98e",
   "metadata": {},
   "source": [
    "# <span style=color:#770fe5>Formating:\n",
    "## `%s` String\n",
    "## `%d` Integer\n",
    "## `%f` Float"
   ]
  },
  {
   "cell_type": "code",
   "execution_count": null,
   "id": "5b8c8905-4639-46cb-816a-cd74cbc3d20b",
   "metadata": {},
   "outputs": [],
   "source": [
    "Name=\"Mazen\"\n",
    "Grade=90.83\n",
    "Age=25"
   ]
  },
  {
   "cell_type": "code",
   "execution_count": null,
   "id": "56487636-7989-4555-b9b4-28bfd162f077",
   "metadata": {},
   "outputs": [],
   "source": [
    "print(\"My name is %s,im %d years old and Graduated with Grade=%f\"%(Name,Age,Grade))"
   ]
  },
  {
   "cell_type": "markdown",
   "id": "34e3760e-6c7d-4c17-9749-1a0c8e864261",
   "metadata": {},
   "source": [
    "## <span style=color:#dc5e5e>f-string formatting"
   ]
  },
  {
   "cell_type": "code",
   "execution_count": null,
   "id": "7c11df4b-9f74-4565-89df-696226ce005c",
   "metadata": {},
   "outputs": [],
   "source": [
    "Name=\"Mazen\"\n",
    "Grade=90.83\n",
    "Age=25"
   ]
  },
  {
   "cell_type": "code",
   "execution_count": null,
   "id": "0ea192f7-1515-402f-bd2b-b4cb78f86b27",
   "metadata": {},
   "outputs": [],
   "source": [
    "print(f\"My name is {Name},im {Age} years old and graduated with grade={Grade}\")"
   ]
  },
  {
   "cell_type": "code",
   "execution_count": null,
   "id": "03661e34-0266-4bba-86d8-cff8dd9ac3ca",
   "metadata": {},
   "outputs": [],
   "source": [
    "Word=f\"Hello Grade={Grade}\"\n",
    "print(Word)"
   ]
  },
  {
   "cell_type": "markdown",
   "id": "5a5c3d17-3404-4f5a-aa2e-ee5161524db2",
   "metadata": {},
   "source": [
    "# <span style=color:#770fe5>Arithmetic Operations"
   ]
  },
  {
   "cell_type": "code",
   "execution_count": null,
   "id": "73a983da-6e3b-4275-8006-d2da148b97fe",
   "metadata": {},
   "outputs": [],
   "source": [
    "x=10\n",
    "y=3.0\n",
    "print(x+y)"
   ]
  },
  {
   "cell_type": "code",
   "execution_count": null,
   "id": "fc1552b7-709e-4252-8af9-58d7d686576c",
   "metadata": {},
   "outputs": [],
   "source": [
    "x=10\n",
    "y=3.0\n",
    "print(x-y)\n"
   ]
  },
  {
   "cell_type": "code",
   "execution_count": null,
   "id": "9595a545-1e4c-42ae-8e12-9c93ae10e7af",
   "metadata": {},
   "outputs": [],
   "source": [
    "x=10\n",
    "y=3.0\n",
    "print(x*y)\n"
   ]
  },
  {
   "cell_type": "code",
   "execution_count": null,
   "id": "3f584f3b-5cae-4753-b776-c01ac8998832",
   "metadata": {},
   "outputs": [],
   "source": [
    "x=10\n",
    "y=2.0\n",
    "print(x**y)"
   ]
  },
  {
   "cell_type": "code",
   "execution_count": null,
   "id": "c9a22768-3eae-4e90-a42f-b984a79cbb3a",
   "metadata": {},
   "outputs": [],
   "source": [
    "x=10\n",
    "y=3.0\n",
    "print(x/y)\n"
   ]
  },
  {
   "cell_type": "code",
   "execution_count": null,
   "id": "59308b96-1cb8-4784-8bb8-a5a35c5227cd",
   "metadata": {},
   "outputs": [],
   "source": [
    "x=10\n",
    "y=3.0\n",
    "print(x//y)\n"
   ]
  },
  {
   "cell_type": "markdown",
   "id": "7c721933-2870-4792-9796-70b03050b5a9",
   "metadata": {
    "jp-MarkdownHeadingCollapsed": true
   },
   "source": [
    "## `+=` Ex: `x+=y` this means `x=x+y` if `x=3` and `y=2` then `x=3+2` the value of `x` changed to `5`\n",
    "## `-=` Ex: `x-=y` this means `x=x-y` if `x=3` and `y=2` then `x=3-2` the value of `x` changed to `1`\n",
    "## `*=` Ex: `x*=y` this means `x=x*y` if `x=3` and `y=2` then `x=3*2` the value of `x` changed to `6`\n",
    "## `**=` Ex: `x**=y` this means `x=x**y` if `x=3` and `y=2` then `x=3**2` the value of `x` changed to `9`\n",
    "## `/=` Ex: `x/=y` this means `x=x/y` if `x=6` and `y=2` then `x=6/2` the value of `x` changed to `3`"
   ]
  },
  {
   "cell_type": "markdown",
   "id": "a8e93440-f7a3-48e3-b39b-c24c3a28c7a9",
   "metadata": {},
   "source": [
    "# <span style=color:#770fe5><b>Precedence and Associativity"
   ]
  },
  {
   "cell_type": "markdown",
   "id": "0be89ccd-79d6-4899-a022-dd801f7b60a1",
   "metadata": {},
   "source": [
    "## <span style='color:#46e059'>Precedence Operators with higher precedence are evaluated before operators with lower precedence\n",
    "## <span style='color:#46e059'>Associativity when there is same precedence calculate the result from right to left or left to right\n",
    "### Brackets `()`\n",
    "### Power `**`\n",
    "### Unary operators `+x`,`-x`\n",
    "### mul,div,floor div,modulus `*`,`/`,`//`,`%`\n",
    "### plus,minus `+`,`-`\n",
    "https://www.programiz.com/python-programming/precedence-associativity"
   ]
  },
  {
   "cell_type": "markdown",
   "id": "8fce020c-ad98-4885-bcaf-0d07c26a9b48",
   "metadata": {
    "jp-MarkdownHeadingCollapsed": true
   },
   "source": [
    "# <span style=color:#770fe5><b>Task \n",
    "## ask user to enter 2 numbers and print\n",
    "## Sum,Multiply of the 2 numbers"
   ]
  },
  {
   "cell_type": "markdown",
   "id": "bb488363-b458-4e1e-bde7-6cf6dbb6335f",
   "metadata": {},
   "source": [
    "# <span style='color:#770fe5'><b>if condition\n",
    "## used to ask a question "
   ]
  },
  {
   "cell_type": "code",
   "execution_count": null,
   "id": "2b37886d-a452-4f61-a54a-dc6dba609f7d",
   "metadata": {},
   "outputs": [],
   "source": [
    "Value=int(input(\"Enter Number\"))"
   ]
  },
  {
   "cell_type": "code",
   "execution_count": null,
   "id": "108f3fb4-f1a6-4e27-bb49-63f7aa44ee7e",
   "metadata": {},
   "outputs": [],
   "source": [
    "if Value==1:\n",
    "    print(\"One\")\n",
    "elif Value==2:\n",
    "    print(\"Two\")\n",
    "elif Value==3:\n",
    "    print(\"Three\")\n",
    "else:\n",
    "    print(\"Another Number\")\n"
   ]
  },
  {
   "cell_type": "markdown",
   "id": "5bfbc2f3-1208-477b-8377-8a2838c571ea",
   "metadata": {},
   "source": [
    "# <span style=\"color:#770fe5\"><b><u>Indentation</u></b></span>\n",
    "## It is used to let the code know which step we are in.\n",
    "## For example, if you want to ask a question:\n",
    "### if x == 1:\n",
    "### print(\"the condition is true\")\n",
    "### print(\"Done\")\n",
    "## What makes Python understand that `print(\"the condition is true\")` is inside the `if` statement and `print(\"Done\")` is outside the `if` statement is the indentation:\n",
    "if x == 1:\n",
    "     print(\"the condition is true\")\n",
    "print(\"Done\")\n",
    "## That's why we need to understand indentation.\n",
    "# <span style='color:Red'><b><u>Note:</u></b></span>\n",
    "## Extra or incorrect indentation can cause errors, which could be syntax or logic errors."
   ]
  },
  {
   "cell_type": "markdown",
   "id": "c2d3a66c-28e8-4230-ad49-744d59b4409e",
   "metadata": {},
   "source": [
    "## Condition:\n",
    "### Ask for equality `==`\n",
    "### Ask for not equal `!=`\n",
    "### Ask for less than `<`\n",
    "### Ask for greater than `>`\n",
    "### Ask for less than or equal `<=`\n",
    "### Ask for greater than or equal `>=`\n",
    "### `not` used to negates the result\n",
    "### for example `not x < y`\n",
    "### `in` used to check if in the entered values\n",
    "### for example `'m' in 'mazen'`"
   ]
  },
  {
   "cell_type": "code",
   "execution_count": null,
   "id": "13df0a13-9874-4a03-a7db-88e0e68574f7",
   "metadata": {},
   "outputs": [],
   "source": [
    "Value_1 =15\n",
    "Value_2 =20\n",
    "Value_3 =15"
   ]
  },
  {
   "cell_type": "code",
   "execution_count": null,
   "id": "e2c1cc95-723a-4ace-abdf-51904ddbaa3b",
   "metadata": {},
   "outputs": [],
   "source": [
    "if Value_1 == Value_2:\n",
    "    print(\"Equals\")\n",
    "elif Value_1 < Value_2:\n",
    "    print(\"Less\")\n",
    "else:\n",
    "    print(\"Greater\")"
   ]
  },
  {
   "cell_type": "code",
   "execution_count": null,
   "id": "9296f0d8-c5ab-4146-8436-1945498ebb11",
   "metadata": {},
   "outputs": [],
   "source": [
    "if not Value_1  > Value_2:\n",
    "    print(\"Value_1 not greater than Value_2\")"
   ]
  },
  {
   "cell_type": "code",
   "execution_count": null,
   "id": "ff525b6c-7682-4599-ac3b-9bcddc3f97e7",
   "metadata": {},
   "outputs": [],
   "source": [
    "read=input(\"enter anything\")\n",
    "if 'M' in read:\n",
    "    print(\"M Found\")"
   ]
  },
  {
   "cell_type": "markdown",
   "id": "385d1907-0405-4edb-ae9e-3e016714dfb3",
   "metadata": {
    "jp-MarkdownHeadingCollapsed": true
   },
   "source": [
    "# <span style=color:#770fe5><b>Task \n",
    "## Create Calculator using if condition"
   ]
  },
  {
   "cell_type": "markdown",
   "id": "885c2363-19f5-43ce-aad2-458dec44b625",
   "metadata": {},
   "source": [
    "# <span style='color:#0072e3'><b><u>Extra\n",
    "## Nested if"
   ]
  },
  {
   "cell_type": "code",
   "execution_count": null,
   "id": "cf5e2e35-942d-45e8-99e5-a4f5c6c2609a",
   "metadata": {},
   "outputs": [],
   "source": [
    "Name='Mazen'\n",
    "Name_Length=5\n",
    "if 'z' in Name:\n",
    "    if Name_Length==5:\n",
    "        print(\"z found and Name_Length is 5\")\n",
    "    else:\n",
    "        print(\"z found but Name_Length not 5\")\n",
    "else:\n",
    "    print(\"z not found\")"
   ]
  },
  {
   "cell_type": "markdown",
   "id": "ee0eb697-5fdb-4c33-9ac8-861daa932b02",
   "metadata": {},
   "source": [
    "# <span style='color:#0072e3'><b><u>Logic Operators\n",
    "## `and`\n",
    "## Example: `x==1 and y==1` returns True if both sides are true\n",
    "## `or`\n",
    "## Example: `x==1 or y==1` returns True if at least one side is true\n",
    "## `not`\n",
    "## Example: `not x>1` its false that mean negates the value "
   ]
  },
  {
   "cell_type": "code",
   "execution_count": null,
   "id": "428f9da5-1e61-46b4-afd5-e94fb2324cbf",
   "metadata": {},
   "outputs": [],
   "source": [
    "Name=\"Mazen\"\n",
    "Name_Length=5\n",
    "if 'M' in Name and Name_Length==5:\n",
    "    print(\"M Found in Name and Length is 5\")\n"
   ]
  },
  {
   "cell_type": "markdown",
   "id": "22971480-c9c4-499e-9510-9be8923cf963",
   "metadata": {},
   "source": [
    "# <span style=color:#770fe5><b>Modulus\n",
    "## `%` it return reminder\n",
    "## <span style='color:Red'><b><u>Extra and not Necessary\n",
    "### Example: \n",
    "### `7%2=1` how that:\n",
    "### `7/2=3.5`\n",
    "### `int(3.5)*2=6`\n",
    "### `6-7=1`"
   ]
  },
  {
   "cell_type": "code",
   "execution_count": null,
   "id": "9e847215-7d29-472f-beb6-93b4c75de173",
   "metadata": {},
   "outputs": [],
   "source": [
    "print(0%2)\n",
    "print(1%2)\n",
    "print(2%2)\n",
    "print(3%2)\n",
    "print(4%2)\n",
    "print(5%2)\n",
    "print(6%2)\n",
    "print(7%2)\n",
    "print(8%2)\n",
    "print(9%2)\n",
    "print(10%2)"
   ]
  },
  {
   "cell_type": "markdown",
   "id": "f62c6350-197f-4fdd-b9c0-1f9598f12ded",
   "metadata": {},
   "source": [
    "# <span style='color:Red'><b><u>What did you found in the last example?"
   ]
  },
  {
   "cell_type": "markdown",
   "id": "c39feca7-4005-4214-87d5-f9c0269c9295",
   "metadata": {},
   "source": [
    "# <span style=color:#770fe5><b><u>Loops:\n",
    "## Loops are used to repeat a sequence of code for a certain number of times.\n",
    "## <span style=color:#dc5e5e>While Loop `while`"
   ]
  },
  {
   "cell_type": "markdown",
   "id": "d6e36943-db83-4127-bc8b-8227224ca1f5",
   "metadata": {},
   "source": [
    "## When i want to print certain sequence of numbers such as 0 to 4"
   ]
  },
  {
   "cell_type": "code",
   "execution_count": null,
   "id": "d92d4efc-b7c1-4c27-9e70-4772506261bc",
   "metadata": {},
   "outputs": [],
   "source": [
    "print(0)\n",
    "print(1)\n",
    "print(2)\n",
    "print(3)\n",
    "print(4)"
   ]
  },
  {
   "cell_type": "markdown",
   "id": "0a266cad-d93a-4563-9fb0-55dcf816b883",
   "metadata": {},
   "source": [
    "## What if I want to print numbers from 0 to 9? \n",
    "## It will consume a lot of time writing 10 print statements."
   ]
  },
  {
   "cell_type": "markdown",
   "id": "6810407b-44ec-4d64-89c4-011c434422eb",
   "metadata": {},
   "source": [
    "## This is a better <span style=\"color:red\">method</span> to print it"
   ]
  },
  {
   "cell_type": "code",
   "execution_count": null,
   "id": "e9b93822-cb04-472b-a5fb-2f49071407a8",
   "metadata": {},
   "outputs": [],
   "source": [
    "i=0\n",
    "while i < 10:\n",
    "    print(i)\n",
    "    i+=1"
   ]
  },
  {
   "cell_type": "markdown",
   "id": "cd4efef5-3cb9-4410-9343-a53650cbb779",
   "metadata": {},
   "source": [
    "## <u>In the previous example:</u> `i` <u>is a counter that counts every time the loop ends"
   ]
  },
  {
   "cell_type": "markdown",
   "id": "a27cff5e-36cc-4893-8e6e-efc4b47a9074",
   "metadata": {},
   "source": [
    "## if `while` ended and i want to inform the user then use `else`"
   ]
  },
  {
   "cell_type": "code",
   "execution_count": null,
   "id": "f465e839-3afe-43d0-ae64-710b070cf70d",
   "metadata": {},
   "outputs": [],
   "source": [
    "k=0\n",
    "while k < 5:\n",
    "    print(k)\n",
    "    k+=1\n",
    "else:\n",
    "    print(\"Finished\")"
   ]
  },
  {
   "cell_type": "markdown",
   "id": "fb7e412d-ac87-46b3-a280-a68082d1c077",
   "metadata": {},
   "source": [
    "## to leave the loop at anytime use `break`"
   ]
  },
  {
   "cell_type": "code",
   "execution_count": null,
   "id": "ce3573e1-532a-4638-a28d-bc963501dd2e",
   "metadata": {},
   "outputs": [],
   "source": [
    "j=0\n",
    "while j < 5:\n",
    "    print(\"j=\",j)\n",
    "    z=input(\"To Continue Write Y to quit Write N then enter\")\n",
    "    if z==\"Y\":\n",
    "        j+=1\n",
    "    elif z==\"N\":\n",
    "        break\n",
    "    else:\n",
    "        print(\"Wrong Input\")\n",
    "else:\n",
    "    print(\"Loop Finished\")"
   ]
  },
  {
   "cell_type": "markdown",
   "id": "18f749e5-271c-498e-a4aa-226a8b52e6f6",
   "metadata": {},
   "source": [
    "## in the previous example when the user entered \"Y\" till loop completed the outter `else` executed and `Loop Finished` printed\n",
    "## but when user entered \"N\" the outter `else` did not executed"
   ]
  },
  {
   "cell_type": "markdown",
   "id": "59491cc2-e005-4c88-92eb-a7d1a99f4b89",
   "metadata": {},
   "source": [
    "# <span style='color:red'><b><u>Infinity Loop:\n",
    "## It's a loop that doesnt have an end \n",
    "### <b><span style=\"color:Red\"> Dont Do This </span></b> Example:\n",
    "```\n",
    "while i<5:\n",
    "    print(i)\n",
    "    i=0\n",
    "```\n",
    "### To fix it you need to use break \n",
    "## fixed in the Following Example:"
   ]
  },
  {
   "cell_type": "code",
   "execution_count": null,
   "id": "5aac2e2f-7da8-4753-b179-4461f56c6ac4",
   "metadata": {},
   "outputs": [],
   "source": [
    "i=0\n",
    "while True:\n",
    "    print(i)\n",
    "    i+=1\n",
    "    if i==10:\n",
    "        break"
   ]
  },
  {
   "cell_type": "markdown",
   "id": "710f862a-f7b1-44ae-a705-873a84923324",
   "metadata": {},
   "source": [
    "## to skip specific iteration use `continue`"
   ]
  },
  {
   "cell_type": "code",
   "execution_count": null,
   "id": "3539ea16-5605-4351-a0f1-21686b53ee77",
   "metadata": {},
   "outputs": [],
   "source": [
    "i=0\n",
    "while True:\n",
    "    print(i)\n",
    "    i+=1\n",
    "    if i==5:\n",
    "        i+=1\n",
    "        continue\n",
    "    elif i==10:\n",
    "        break\n",
    "  "
   ]
  },
  {
   "cell_type": "markdown",
   "id": "9cb63f9c-0002-4a14-beac-68c5c80cb068",
   "metadata": {},
   "source": [
    "## <span style=color:#dc5e5e>For loop `for`:"
   ]
  },
  {
   "cell_type": "code",
   "execution_count": null,
   "id": "dad5c30d-c4c1-49b6-8db7-1f107c1ffaca",
   "metadata": {},
   "outputs": [],
   "source": [
    "i=0\n",
    "for i in range(5):\n",
    "    print(i)"
   ]
  },
  {
   "cell_type": "code",
   "execution_count": null,
   "id": "f4e7b2ff-3e17-449d-ba46-9766c66278b6",
   "metadata": {},
   "outputs": [],
   "source": [
    "Name='Mazen'\n",
    "i=0\n",
    "for i in range(len(Name)):\n",
    "    print(Name[i])"
   ]
  },
  {
   "cell_type": "code",
   "execution_count": null,
   "id": "cbe0f8e6-acb0-40bc-89a2-ec0d0f2d7c88",
   "metadata": {},
   "outputs": [],
   "source": [
    "Name='Mazen'\n",
    "i=0\n",
    "for i in range(len(Name)):\n",
    "    print(Name[i],end='')\n",
    "    "
   ]
  },
  {
   "cell_type": "code",
   "execution_count": null,
   "id": "5f517012-3779-4209-9981-19e735ac2fb0",
   "metadata": {},
   "outputs": [],
   "source": [
    "Name='Orange '\n",
    "i=0\n",
    "for i in range(len(Name)):\n",
    "    if Name[i]=='e':\n",
    "        break\n",
    "    print(Name[i],end='')"
   ]
  },
  {
   "cell_type": "code",
   "execution_count": null,
   "id": "7e24cd6a-9848-4b8a-a21c-20ea054d33d0",
   "metadata": {},
   "outputs": [],
   "source": [
    "Name='Orange '\n",
    "i=0\n",
    "for i in range(len(Name)):\n",
    "    if Name[i]=='r' or Name[i]=='a' or Name[i]=='e':\n",
    "        i+=1\n",
    "        continue\n",
    "    print(Name[i],end='')"
   ]
  },
  {
   "cell_type": "markdown",
   "id": "b7c02fd5-fc26-4f3d-99b7-54892b70c1b8",
   "metadata": {},
   "source": [
    "## <span style=color:#dc5e5e>Nested Loop:\n",
    "### Its a loop inside another loop\n",
    "### <b><u>Note: </u></b>The Inner loop completed first"
   ]
  },
  {
   "cell_type": "code",
   "execution_count": null,
   "id": "05f004ee-c4af-41e2-b8fb-c9f3a3df8f56",
   "metadata": {},
   "outputs": [],
   "source": [
    "i=0\n",
    "x=0\n",
    "for i in range(5):\n",
    "    for x in range(10):\n",
    "        print(x,end=' ')\n",
    "    print()"
   ]
  },
  {
   "cell_type": "markdown",
   "id": "4ab2b4cf-2a3b-4366-8ad5-2f755598cf18",
   "metadata": {},
   "source": [
    "## In the previous example: `for x in range(10):` executed first \n",
    "### output is `0 1 2 3 4 5 6 7 8 9` and repeated `5 times` as the outter loop `for i in range(5):`"
   ]
  },
  {
   "cell_type": "markdown",
   "id": "02ff79e6-0977-44c6-8e58-94510c927039",
   "metadata": {},
   "source": [
    "### <span style=color:#dc5e5e>Creating a Ladder using numbers:"
   ]
  },
  {
   "cell_type": "code",
   "execution_count": null,
   "id": "a0456912-b9b1-47ef-94d0-83feb43e9a22",
   "metadata": {},
   "outputs": [],
   "source": [
    "i=0\n",
    "x=0\n",
    "for i in range(5) :\n",
    "    while x <= i:\n",
    "        print(x,end=' ')\n",
    "        x+=1\n",
    "    print()\n",
    "    x=0"
   ]
  },
  {
   "cell_type": "code",
   "execution_count": null,
   "id": "abfa192d-2bdf-4cc7-9ab3-c0c10325eb29",
   "metadata": {},
   "outputs": [],
   "source": [
    "i=0\n",
    "x=0\n",
    "for i in range(5) :\n",
    "    for x in range(i):\n",
    "        print(x,end=' ')\n",
    "    print()"
   ]
  },
  {
   "cell_type": "markdown",
   "id": "c6c36a15-ba46-44f8-807a-cd6c61e98159",
   "metadata": {},
   "source": [
    "# <b><span style=color:#770fe5>List: []\n",
    "## List used to store items.\n",
    "### List Properties=>\n",
    "### Mutable: You can change elements (add, remove, update).\n",
    "### Ordered: Elements have a specific order, and you can access elements by index.\n",
    "### Duplicates Allowed: Lists can have duplicate elements."
   ]
  },
  {
   "cell_type": "code",
   "execution_count": null,
   "id": "7e923c9f-0600-41cc-aae7-2474037166dc",
   "metadata": {},
   "outputs": [],
   "source": [
    "Fruits=[\"Apple\",\"orange\",\"kiwi\"]"
   ]
  },
  {
   "cell_type": "code",
   "execution_count": null,
   "id": "b0b0ff7d-bdce-42e1-bc91-683271fc3f3e",
   "metadata": {},
   "outputs": [],
   "source": [
    "print(type(Fruits))"
   ]
  },
  {
   "cell_type": "code",
   "execution_count": null,
   "id": "036e9392-7253-453d-b419-9a2b7efd5842",
   "metadata": {},
   "outputs": [],
   "source": [
    "print(Fruits)"
   ]
  },
  {
   "cell_type": "code",
   "execution_count": null,
   "id": "48d87d8e-83c5-4533-bc86-2ddfe511bf9c",
   "metadata": {},
   "outputs": [],
   "source": [
    "print(len(Fruits))"
   ]
  },
  {
   "cell_type": "code",
   "execution_count": null,
   "id": "7297f866-2a90-41d7-8460-3ce83b9868b2",
   "metadata": {},
   "outputs": [],
   "source": [
    "print(Fruits[0])"
   ]
  },
  {
   "cell_type": "code",
   "execution_count": null,
   "id": "82aa0be7-96ec-4584-a9c1-7121090243e4",
   "metadata": {},
   "outputs": [],
   "source": [
    "print(Fruits[1])"
   ]
  },
  {
   "cell_type": "code",
   "execution_count": null,
   "id": "cb91c82e-8964-4a24-9550-155ddc0aefbb",
   "metadata": {},
   "outputs": [],
   "source": [
    "print(Fruits[2])"
   ]
  },
  {
   "cell_type": "code",
   "execution_count": null,
   "id": "f0da68fa-859e-49b0-af1d-cbdfe0a3dabb",
   "metadata": {},
   "outputs": [],
   "source": [
    "print(Fruits[-1])"
   ]
  },
  {
   "cell_type": "code",
   "execution_count": null,
   "id": "1e00ebfe-c6d0-48dd-97d8-2cd09c818d9b",
   "metadata": {},
   "outputs": [],
   "source": [
    "print(Fruits[-2])"
   ]
  },
  {
   "cell_type": "code",
   "execution_count": null,
   "id": "e048d239-9a05-4574-9a9b-ad68730e9f62",
   "metadata": {},
   "outputs": [],
   "source": [
    "print(Fruits[-3])"
   ]
  },
  {
   "cell_type": "code",
   "execution_count": null,
   "id": "b23a90e4-751f-483a-82b5-97a13df8ff9c",
   "metadata": {},
   "outputs": [],
   "source": [
    "print(len(Fruits))"
   ]
  },
  {
   "cell_type": "markdown",
   "id": "37b981ff-6845-4a8a-b5c1-f11cf15b63c7",
   "metadata": {},
   "source": [
    "# `if`  with list"
   ]
  },
  {
   "cell_type": "code",
   "execution_count": null,
   "id": "9bc3a1f4-1fa4-4b82-b5c6-af66c267428d",
   "metadata": {},
   "outputs": [],
   "source": [
    "if \"Apple\" in Fruits:\n",
    "    print(Fruits)"
   ]
  },
  {
   "cell_type": "code",
   "execution_count": null,
   "id": "ba589bdb-f902-45d7-8ab0-578d789730e8",
   "metadata": {},
   "outputs": [],
   "source": [
    "if \"apple\" in Fruits:\n",
    "    print(Fruits)\n",
    "else:\n",
    "    print(\"Not Found\")"
   ]
  },
  {
   "cell_type": "markdown",
   "id": "20a8d1ac-43ef-4f07-af34-85b84d9c6210",
   "metadata": {},
   "source": [
    "## <b>To Correct Capitalization Issues, Follow Standard Grammar Rules:"
   ]
  },
  {
   "cell_type": "markdown",
   "id": "7c4ebe86-f949-4d48-93a3-0d0d46d8257b",
   "metadata": {},
   "source": [
    "# `while` with list"
   ]
  },
  {
   "cell_type": "code",
   "execution_count": null,
   "id": "ae67e06d-3887-4fd3-8058-8785eea4d320",
   "metadata": {},
   "outputs": [],
   "source": [
    "Large_List=[\"Apple\",\"orange\",\"kiwi\",\"Mango\",\"potato\",\"Chicken\"]\n",
    "print(f\"Before correction=>{Large_List}\")\n",
    "i=0\n",
    "while i < len(Large_List):\n",
    "    Large_List[i]=Large_List[i].capitalize()\n",
    "    i+=1\n",
    "\n",
    "print(f\"After correction=> {Large_List}\")"
   ]
  },
  {
   "cell_type": "markdown",
   "id": "7efa4c88-2e8e-42b1-9755-97e0eb0916d0",
   "metadata": {},
   "source": [
    "# `for` with list"
   ]
  },
  {
   "cell_type": "code",
   "execution_count": null,
   "id": "56a6e91d-6294-4d3b-8e76-74f5a8e9d2f9",
   "metadata": {},
   "outputs": [],
   "source": [
    "Large_List=[\"Apple\",\"orange\",\"kiwi\",\"Mango\",\"potato\",\"Chicken\"]\n",
    "print(\"Without Capitalization\")\n",
    "for i in range(len(Large_List)):\n",
    "    print(\" \"*5,Large_List[i])\n",
    "print(\"#\"*25)\n",
    "print(\"Capitalized\")\n",
    "for i in range(len(Large_List)):\n",
    "    print(\" \"*5,Large_List[i].capitalize())"
   ]
  },
  {
   "cell_type": "code",
   "execution_count": null,
   "id": "fd3b3a28-a412-48ee-9c05-fc1573eb0092",
   "metadata": {},
   "outputs": [],
   "source": [
    "List=[\"Mazen\",\"Mounir\",\"Python\",\"Instructor\",\"Engineer\"]"
   ]
  },
  {
   "cell_type": "code",
   "execution_count": null,
   "id": "f99dd387-f619-42f8-b8e2-9e9cb620ad03",
   "metadata": {},
   "outputs": [],
   "source": [
    "print(List[0:5])"
   ]
  },
  {
   "cell_type": "code",
   "execution_count": null,
   "id": "d99db97d-8d47-44b9-80dd-5f3d56758955",
   "metadata": {},
   "outputs": [],
   "source": [
    "print(List[0:5:1])"
   ]
  },
  {
   "cell_type": "code",
   "execution_count": null,
   "id": "0211daff-27e5-4cef-9656-a963b68b0096",
   "metadata": {},
   "outputs": [],
   "source": [
    "print(List[0:5:2])"
   ]
  },
  {
   "cell_type": "markdown",
   "id": "5a9c6b22-3414-4fcd-b00b-2fcc3dd11ec4",
   "metadata": {},
   "source": [
    "## Create a list from another list"
   ]
  },
  {
   "cell_type": "code",
   "execution_count": null,
   "id": "dbca8c53-caf9-4775-ae38-f4d6403a4ee9",
   "metadata": {},
   "outputs": [],
   "source": [
    "Copy_Fruits = [x for x in Fruits]"
   ]
  },
  {
   "cell_type": "code",
   "execution_count": null,
   "id": "146701a1-68b6-4fa8-98dc-35f8afe50513",
   "metadata": {},
   "outputs": [],
   "source": [
    "print(Copy_Fruits) "
   ]
  },
  {
   "cell_type": "markdown",
   "id": "4ddb8817-7bed-4954-ba60-1bca95c6f9e3",
   "metadata": {},
   "source": [
    "## Create a list from another list with if condition"
   ]
  },
  {
   "cell_type": "code",
   "execution_count": null,
   "id": "9b036e4a-1464-4d82-9fe2-9c1afa07bca9",
   "metadata": {},
   "outputs": [],
   "source": [
    "Copy_Fruits_Condition = [x for x in Fruits if x != \"orange\"]"
   ]
  },
  {
   "cell_type": "code",
   "execution_count": null,
   "id": "03c5b765-6a49-4da4-8195-a1d6a41417b1",
   "metadata": {},
   "outputs": [],
   "source": [
    "print(Copy_Fruits_Condition) #There More Examples Watch the next !!"
   ]
  },
  {
   "cell_type": "code",
   "execution_count": null,
   "id": "cc5c7a13-0f57-4949-ae71-cf5b5824fa2c",
   "metadata": {},
   "outputs": [],
   "source": [
    "Copy_Fruits_2=Copy_Fruits_Condition+Fruits"
   ]
  },
  {
   "cell_type": "code",
   "execution_count": null,
   "id": "70b9c08f-a28d-46b6-94be-8f04d578bbeb",
   "metadata": {},
   "outputs": [],
   "source": [
    "print(Fruits)\n",
    "print(Copy_Fruits_Condition)"
   ]
  },
  {
   "cell_type": "code",
   "execution_count": null,
   "id": "fc34c1da-23d5-47bb-a06f-6a7b28134551",
   "metadata": {},
   "outputs": [],
   "source": [
    "print(Copy_Fruits_2)"
   ]
  },
  {
   "cell_type": "markdown",
   "id": "31174bf5-0254-47d4-b270-f89cd1f0c5dd",
   "metadata": {},
   "source": [
    "## <span style=color:#dc5e5e>append()\n",
    "### Adds an item to the end of the list"
   ]
  },
  {
   "cell_type": "code",
   "execution_count": null,
   "id": "cfa81335-9190-42f6-8e09-1149b50820e4",
   "metadata": {},
   "outputs": [],
   "source": [
    "Fruits.append(\"Pineapple\")"
   ]
  },
  {
   "cell_type": "code",
   "execution_count": null,
   "id": "bd4feb72-eeaa-46c2-ba5c-d62075b7a0dc",
   "metadata": {},
   "outputs": [],
   "source": [
    "print(Fruits)"
   ]
  },
  {
   "cell_type": "markdown",
   "id": "4b0a5254-dbdd-4a8a-b3f9-5ed111087211",
   "metadata": {},
   "source": [
    "## <span style=color:#dc5e5e>insert()\n",
    "### insert(index,element)"
   ]
  },
  {
   "cell_type": "code",
   "execution_count": null,
   "id": "bd463755-6002-4d55-9b15-47b8174e0dfe",
   "metadata": {},
   "outputs": [],
   "source": [
    "Fruits.insert(0,\"Banana\")"
   ]
  },
  {
   "cell_type": "code",
   "execution_count": null,
   "id": "33a0dbf0-7546-49d2-a8c7-4d558130cce6",
   "metadata": {},
   "outputs": [],
   "source": [
    "print(Fruits)"
   ]
  },
  {
   "cell_type": "markdown",
   "id": "18f695b3-1405-46ae-a7a0-4b2c64697cb4",
   "metadata": {},
   "source": [
    "## <span style=color:#dc5e5e>extend()\n",
    "### Extends the list with a list to the end of the list"
   ]
  },
  {
   "cell_type": "code",
   "execution_count": null,
   "id": "50e48aaa-cc02-44db-a193-275394cbb6b0",
   "metadata": {},
   "outputs": [],
   "source": [
    "Fruits.extend([\"Watermelon\"])"
   ]
  },
  {
   "cell_type": "code",
   "execution_count": null,
   "id": "cf1f8cde-e76f-41e0-9b4a-6acd2ebafe03",
   "metadata": {},
   "outputs": [],
   "source": [
    "print(Fruits)"
   ]
  },
  {
   "cell_type": "code",
   "execution_count": null,
   "id": "0f244170-7c10-4f08-9747-acb9fd32254d",
   "metadata": {},
   "outputs": [],
   "source": [
    "Fruits.extend([\"Berry\",\"Blueberry\",\"Strawberry\"])"
   ]
  },
  {
   "cell_type": "code",
   "execution_count": null,
   "id": "1647597f-a6c9-4a88-86b3-5f9062fc23a1",
   "metadata": {},
   "outputs": [],
   "source": [
    "print(Fruits)"
   ]
  },
  {
   "cell_type": "code",
   "execution_count": null,
   "id": "85c3d8af-1c09-4b1b-aa95-07899e6fb007",
   "metadata": {},
   "outputs": [],
   "source": [
    "Copy_Fruits_Condition = [x for x in Fruits if x != \"Pineapple\"]"
   ]
  },
  {
   "cell_type": "code",
   "execution_count": null,
   "id": "7f49c740-c464-4d48-a901-007eae8b4f2b",
   "metadata": {},
   "outputs": [],
   "source": [
    "print(Copy_Fruits_Condition)"
   ]
  },
  {
   "cell_type": "markdown",
   "id": "d94f487f-f9fa-4e54-98f6-b5525d39f695",
   "metadata": {},
   "source": [
    "## <span style=color:#dc5e5e>pop()\n",
    "### Its default remove the last element and return it \n",
    "### but you can add you wants to remove"
   ]
  },
  {
   "cell_type": "code",
   "execution_count": null,
   "id": "3831432f-741e-468b-bf61-9febdf9e8018",
   "metadata": {},
   "outputs": [],
   "source": [
    "print(Fruits.pop())"
   ]
  },
  {
   "cell_type": "code",
   "execution_count": null,
   "id": "b2058cb7-ccf1-42ee-9c4f-839c774b0f89",
   "metadata": {},
   "outputs": [],
   "source": [
    "print(Fruits)"
   ]
  },
  {
   "cell_type": "code",
   "execution_count": null,
   "id": "79eaf787-d47e-425e-8f64-3199e7229622",
   "metadata": {},
   "outputs": [],
   "source": [
    "Fruits.pop(2)"
   ]
  },
  {
   "cell_type": "code",
   "execution_count": null,
   "id": "e05fe596-d082-4677-b875-4c6086deaa6a",
   "metadata": {},
   "outputs": [],
   "source": [
    "print(Fruits)"
   ]
  },
  {
   "cell_type": "markdown",
   "id": "c49aa73e-7c96-4d8b-94ef-99d2386f222f",
   "metadata": {},
   "source": [
    "## <span style=color:#dc5e5e>remove()\n",
    "### Removes the element you write."
   ]
  },
  {
   "cell_type": "code",
   "execution_count": null,
   "id": "259f4ebe-9d97-4ade-a36c-f28d2c511a33",
   "metadata": {},
   "outputs": [],
   "source": [
    "Fruits.remove(\"Apple\")"
   ]
  },
  {
   "cell_type": "code",
   "execution_count": null,
   "id": "1213ccf4-1f99-4249-b36d-fa64b5aa8e2e",
   "metadata": {},
   "outputs": [],
   "source": [
    "print(Fruits)"
   ]
  },
  {
   "cell_type": "markdown",
   "id": "2add8fd4-f6aa-4c7f-87bb-aada9ff0b6b2",
   "metadata": {},
   "source": [
    "### <b><span style='color:Green'>It gives an error if tried to remove an element that doesn't exist."
   ]
  },
  {
   "cell_type": "code",
   "execution_count": null,
   "id": "e4fb5cdc-7a27-49cd-ae84-e60c2daf2cdd",
   "metadata": {},
   "outputs": [],
   "source": [
    "Fruits.remove(\"Apple\")"
   ]
  },
  {
   "cell_type": "markdown",
   "id": "0d1fef28-514d-4136-a3f0-d2615d3ac964",
   "metadata": {},
   "source": [
    "## <span style=color:#dc5e5e>reverse()\n",
    "### Reverse the List"
   ]
  },
  {
   "cell_type": "code",
   "execution_count": null,
   "id": "3a90a6cd-9d83-48a7-9f36-032b9c02103a",
   "metadata": {},
   "outputs": [],
   "source": [
    "Fruits.reverse()"
   ]
  },
  {
   "cell_type": "code",
   "execution_count": null,
   "id": "bcca0c38-c0f7-4ef8-b763-a8f4070ab76d",
   "metadata": {},
   "outputs": [],
   "source": [
    "print(Fruits)"
   ]
  },
  {
   "cell_type": "markdown",
   "id": "f2d0895d-1168-402b-8165-99f8a5217eba",
   "metadata": {},
   "source": [
    "## <span style=color:#dc5e5e>sort()"
   ]
  },
  {
   "cell_type": "code",
   "execution_count": null,
   "id": "4c4ec609-71a0-4c34-8c10-dde1cac08aa4",
   "metadata": {},
   "outputs": [],
   "source": [
    "Fruits.sort()"
   ]
  },
  {
   "cell_type": "code",
   "execution_count": null,
   "id": "f772c1d5-632a-4840-ba17-47f4a3394b85",
   "metadata": {},
   "outputs": [],
   "source": [
    "print(Fruits)"
   ]
  },
  {
   "cell_type": "code",
   "execution_count": null,
   "id": "9e224627-4326-43b1-9915-026d5ad6f239",
   "metadata": {},
   "outputs": [],
   "source": [
    "Fruits.sort(reverse = True)"
   ]
  },
  {
   "cell_type": "code",
   "execution_count": null,
   "id": "12ee669a-3177-4e1a-b6a4-acb464d339df",
   "metadata": {},
   "outputs": [],
   "source": [
    "print(Fruits)"
   ]
  },
  {
   "cell_type": "markdown",
   "id": "bf24dfc9-2011-4f2c-ae6b-6a376e08a18c",
   "metadata": {},
   "source": [
    "## <span style=color:#dc5e5e>index()"
   ]
  },
  {
   "cell_type": "code",
   "execution_count": null,
   "id": "f8f69cab-a9f5-4c4f-89d5-9db71bb729e7",
   "metadata": {},
   "outputs": [],
   "source": [
    "print(Fruits)\n",
    "print(Fruits.index(\"Berry\"))"
   ]
  },
  {
   "cell_type": "markdown",
   "id": "b2337c54-d27b-46fd-85e0-75bf59c8f26a",
   "metadata": {},
   "source": [
    "## <span style=color:#dc5e5e>count()\n",
    "## returns the number of duplicated element wrote in."
   ]
  },
  {
   "cell_type": "code",
   "execution_count": null,
   "id": "f19b5ebf-5461-4b34-8a18-09360cd21c19",
   "metadata": {},
   "outputs": [],
   "source": [
    "print(Fruits.count(\"Berry\"))"
   ]
  },
  {
   "cell_type": "markdown",
   "id": "5c4d1d2d-8dc5-4e39-bcbf-587eda048e62",
   "metadata": {},
   "source": [
    "## <span style=color:#dc5e5e>copy()\n",
    "## Create an exact copy of the list"
   ]
  },
  {
   "cell_type": "code",
   "execution_count": null,
   "id": "21365ecb-418f-4d23-ae34-f49774f720c2",
   "metadata": {},
   "outputs": [],
   "source": [
    "LIST=Fruits.copy()"
   ]
  },
  {
   "cell_type": "code",
   "execution_count": null,
   "id": "33f0984e-f92e-45b0-9b07-9ead2844cdaf",
   "metadata": {},
   "outputs": [],
   "source": [
    "print(Fruits)"
   ]
  },
  {
   "cell_type": "code",
   "execution_count": null,
   "id": "c753c070-fcab-442b-b6f2-62a8352f5983",
   "metadata": {},
   "outputs": [],
   "source": [
    "print(LIST)"
   ]
  },
  {
   "cell_type": "markdown",
   "id": "dca52ad3-a402-47fd-a1a2-629ee5989c6b",
   "metadata": {},
   "source": [
    "## <span style=color:#dc5e5e>clear()\n",
    "## Clear the list."
   ]
  },
  {
   "cell_type": "code",
   "execution_count": null,
   "id": "3908d6ae-e680-4088-b2fc-72d27377c53f",
   "metadata": {},
   "outputs": [],
   "source": [
    "LIST.clear()"
   ]
  },
  {
   "cell_type": "code",
   "execution_count": null,
   "id": "2d8e4fe9-af5d-48d0-a465-20b643f20027",
   "metadata": {},
   "outputs": [],
   "source": [
    "print(LIST)"
   ]
  },
  {
   "cell_type": "markdown",
   "id": "209f80bb-363c-4f8f-9568-11649e25d711",
   "metadata": {},
   "source": [
    "# <b><span style=color:#770fe5>Tuple: ()\n",
    "## Tuple used to store items.\n",
    "## Tuple Properties=>\n",
    "## Immutable: You cannot change elements (add, remove, update) once the tuple is created.\n",
    "## Ordered: Elements have a specific order, and you can access elements by index.\n",
    "## Duplicates Allowed: Tuples can have duplicate elements."
   ]
  },
  {
   "cell_type": "code",
   "execution_count": null,
   "id": "af46f785-962e-41e6-bdf1-a3b1dc0abcd6",
   "metadata": {},
   "outputs": [],
   "source": [
    "Tuple=(\"Mazen\",\"Python\",\"C\",\"Coding\",\"Engineer\",25,3.3)"
   ]
  },
  {
   "cell_type": "code",
   "execution_count": null,
   "id": "d711f404-ecd1-4383-a92e-9dffeae59752",
   "metadata": {},
   "outputs": [],
   "source": [
    "print(Tuple)"
   ]
  },
  {
   "cell_type": "code",
   "execution_count": null,
   "id": "3bf42d1c-6f8f-4c20-9de3-75a98079dcd3",
   "metadata": {},
   "outputs": [],
   "source": [
    "print(type(Tuple))"
   ]
  },
  {
   "cell_type": "code",
   "execution_count": null,
   "id": "b37fd7fa-bad8-413b-ab3b-5e1aefb9a0cd",
   "metadata": {},
   "outputs": [],
   "source": [
    "print(len(Tuple))"
   ]
  },
  {
   "cell_type": "code",
   "execution_count": null,
   "id": "6b3c8f7a-d4b9-46f6-94f0-3dca5f61e6b4",
   "metadata": {},
   "outputs": [],
   "source": [
    "print(Tuple[0])"
   ]
  },
  {
   "cell_type": "code",
   "execution_count": null,
   "id": "5fe36ee6-217a-4a50-96be-d12dec9f0ab2",
   "metadata": {},
   "outputs": [],
   "source": [
    "print(Tuple[1])"
   ]
  },
  {
   "cell_type": "code",
   "execution_count": null,
   "id": "fecc497f-a26c-4480-9f3b-3c73644901f4",
   "metadata": {},
   "outputs": [],
   "source": [
    "print(Tuple[-1])"
   ]
  },
  {
   "cell_type": "code",
   "execution_count": null,
   "id": "39697a4b-6a56-418f-a7e2-e501ed2502ac",
   "metadata": {},
   "outputs": [],
   "source": [
    "print(Tuple[-2])"
   ]
  },
  {
   "cell_type": "code",
   "execution_count": null,
   "id": "40f3d462-b193-462d-be8c-132006cf5b54",
   "metadata": {},
   "outputs": [],
   "source": [
    "print(Tuple[0:7])"
   ]
  },
  {
   "cell_type": "code",
   "execution_count": null,
   "id": "df04831e-f322-4fea-864d-b94604a80342",
   "metadata": {},
   "outputs": [],
   "source": [
    "print(Tuple[4:7])"
   ]
  },
  {
   "cell_type": "code",
   "execution_count": null,
   "id": "83db5472-8614-4629-8b22-680704be9798",
   "metadata": {},
   "outputs": [],
   "source": [
    "print(Tuple[2:7:1])"
   ]
  },
  {
   "cell_type": "code",
   "execution_count": null,
   "id": "3a35cfba-5b5d-4a22-bf11-db5398bd292a",
   "metadata": {},
   "outputs": [],
   "source": [
    "print(Tuple[0:7:2])"
   ]
  },
  {
   "cell_type": "code",
   "execution_count": null,
   "id": "93aed74a-9aaa-4bae-989b-838036d7fb7f",
   "metadata": {},
   "outputs": [],
   "source": [
    "print(Tuple[0:7:3])"
   ]
  },
  {
   "cell_type": "code",
   "execution_count": null,
   "id": "4a181c45-edc6-4a5c-b4e8-6d90d51fc1f0",
   "metadata": {},
   "outputs": [],
   "source": [
    "x=(\"Hello\")\n",
    "y=[\"Hi\"]\n",
    "z=(\"Tuple\",)"
   ]
  },
  {
   "cell_type": "code",
   "execution_count": null,
   "id": "120003c0-4787-44ff-a31a-b8b485bde7e7",
   "metadata": {},
   "outputs": [],
   "source": [
    "print(type(x),type(y),type(z))"
   ]
  },
  {
   "cell_type": "markdown",
   "id": "eaa95a7f-e504-474e-89db-2e4c1a3632e9",
   "metadata": {},
   "source": [
    "##  <span style=\"color:Red\"><b><u> Note:\n",
    "### Tuple cannot be update directly to update it we use this way"
   ]
  },
  {
   "cell_type": "code",
   "execution_count": null,
   "id": "d653f383-7993-41c0-8f71-0b92ed8ff4a6",
   "metadata": {},
   "outputs": [],
   "source": [
    "T=(\"Mazen\",\"Instructor\")\n",
    "#i want add Python to this"
   ]
  },
  {
   "cell_type": "code",
   "execution_count": null,
   "id": "94cea721-3f07-47b5-8b0e-0983437972f7",
   "metadata": {},
   "outputs": [],
   "source": [
    "L=list(T)"
   ]
  },
  {
   "cell_type": "code",
   "execution_count": null,
   "id": "9e6c298b-7866-4517-859f-f087a7fbf3ff",
   "metadata": {},
   "outputs": [],
   "source": [
    "L.insert(1,\"Python\")"
   ]
  },
  {
   "cell_type": "code",
   "execution_count": null,
   "id": "c44e986d-cb1e-4185-8d8c-a05039b5489d",
   "metadata": {},
   "outputs": [],
   "source": [
    "T=tuple(L)"
   ]
  },
  {
   "cell_type": "code",
   "execution_count": null,
   "id": "bc378e80-6443-4d19-a52c-5a271bde5014",
   "metadata": {},
   "outputs": [],
   "source": [
    "print(T)"
   ]
  },
  {
   "cell_type": "code",
   "execution_count": null,
   "id": "26b2c30a-31ab-43c0-b8ec-7aaacbe6e6a1",
   "metadata": {},
   "outputs": [],
   "source": [
    "k=(\"Test\",)"
   ]
  },
  {
   "cell_type": "code",
   "execution_count": null,
   "id": "032171c5-c308-48b5-aeed-16549c3595b4",
   "metadata": {},
   "outputs": [],
   "source": [
    "T+=k"
   ]
  },
  {
   "cell_type": "code",
   "execution_count": null,
   "id": "5f678e81-dcec-4084-bbcf-078299151e50",
   "metadata": {},
   "outputs": [],
   "source": [
    "print(T)"
   ]
  },
  {
   "cell_type": "markdown",
   "id": "d59bd043-97b7-4c9c-a1da-f179b8f23b3e",
   "metadata": {},
   "source": [
    "## <span style=color:#dc5e5e>Packing()\n",
    "### The Normal way to write a tuple is called packing"
   ]
  },
  {
   "cell_type": "code",
   "execution_count": null,
   "id": "b5e4505b-c3ae-4165-97cc-3892455fa87d",
   "metadata": {},
   "outputs": [],
   "source": [
    "Pack_Example=(\"Mazen\",\"Engineering Bachelor\",2022,\"Instructor\")"
   ]
  },
  {
   "cell_type": "markdown",
   "id": "83046d8d-0a0f-4b58-8671-1847b38e9af9",
   "metadata": {},
   "source": [
    "## <span style=color:#dc5e5e>Unpacking()\n",
    "### The Number of variable must be equals to number of elements in the tuple"
   ]
  },
  {
   "cell_type": "code",
   "execution_count": null,
   "id": "9a0c9bc9-a58e-42bc-ac42-99b915d060a8",
   "metadata": {},
   "outputs": [],
   "source": [
    "Name,Degree,Graduation_Year,Job=Pack_Example"
   ]
  },
  {
   "cell_type": "code",
   "execution_count": null,
   "id": "734431cc-1fa0-48c8-a016-a5d4c67c6f5f",
   "metadata": {},
   "outputs": [],
   "source": [
    "print(Name)"
   ]
  },
  {
   "cell_type": "code",
   "execution_count": null,
   "id": "610d26df-52df-44b6-899d-e3a8f1dbc3c0",
   "metadata": {},
   "outputs": [],
   "source": [
    "print(Degree)"
   ]
  },
  {
   "cell_type": "code",
   "execution_count": null,
   "id": "a5cddd93-740b-4087-ac7f-bae87b061ece",
   "metadata": {},
   "outputs": [],
   "source": [
    "print(Graduation_Year)"
   ]
  },
  {
   "cell_type": "code",
   "execution_count": null,
   "id": "f5acd71e-b7f3-49d5-8dbb-d6b96edce418",
   "metadata": {},
   "outputs": [],
   "source": [
    "print(Job)"
   ]
  },
  {
   "cell_type": "code",
   "execution_count": null,
   "id": "ea409d17-83d1-478d-8da8-7736098be7f5",
   "metadata": {},
   "outputs": [],
   "source": []
  },
  {
   "cell_type": "code",
   "execution_count": null,
   "id": "dc7a592d-4ae1-42cf-92de-e3ad966c5067",
   "metadata": {},
   "outputs": [],
   "source": []
  }
 ],
 "metadata": {
  "kernelspec": {
   "display_name": "Python 3 (ipykernel)",
   "language": "python",
   "name": "python3"
  },
  "language_info": {
   "codemirror_mode": {
    "name": "ipython",
    "version": 3
   },
   "file_extension": ".py",
   "mimetype": "text/x-python",
   "name": "python",
   "nbconvert_exporter": "python",
   "pygments_lexer": "ipython3",
   "version": "3.12.2"
  }
 },
 "nbformat": 4,
 "nbformat_minor": 5
}
