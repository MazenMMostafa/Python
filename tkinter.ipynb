{
 "cells": [
  {
   "cell_type": "markdown",
   "id": "ec57b61f-e69b-480d-9171-ade765cfcd04",
   "metadata": {},
   "source": [
    "# <span style = color:violet> Tkinter\n",
    "## Tkinter is the standard Python library for creating Graphical User Interfaces (GUIs)."
   ]
  },
  {
   "cell_type": "markdown",
   "id": "ace8bdc8-d3c5-4bed-bcea-a00ecefc0495",
   "metadata": {},
   "source": [
    "# `import tkinter as tk`"
   ]
  },
  {
   "cell_type": "markdown",
   "id": "487467f2-4c1d-459f-9511-11eb1a30ea2b",
   "metadata": {},
   "source": [
    "# <span style=color:yellow><u>Application and Window Management"
   ]
  },
  {
   "cell_type": "markdown",
   "id": "3f33202b-1680-4072-af26-4846cce3a2f5",
   "metadata": {},
   "source": [
    "### `mainloop()`: Starts the Tkinter event loop, required to run the application.\n",
    "### `withdraw()`: Hides the window without destroying it.\n",
    "### `deiconify()`: Shows a previously hidden window.\n",
    "### `destroy()`: Destroys the widget and all of its children.\n",
    "### `quit()`: Terminates the mainloop.\n",
    "### `title()`: Sets the title of the window.\n",
    "### `geometry()`: Sets the size and position of the window.\n",
    "### `iconify()`: Minimizes the window.\n",
    "### `resizable()`: Controls whether the window is resizable.\n",
    "### `maxsize()`: Sets the maximum size of the window.\n",
    "### `minsize()`: Sets the minimum size of the window."
   ]
  },
  {
   "cell_type": "markdown",
   "id": "c31aee5d-b274-445c-a813-2faa1795495b",
   "metadata": {},
   "source": [
    "# <span style=color:yellow><u>Widget Creation"
   ]
  },
  {
   "cell_type": "markdown",
   "id": "18e3be6a-a0bc-4001-bf5c-86790fbdf975",
   "metadata": {},
   "source": [
    "### `Button()`: Creates a clickable button widget that can execute a command when pressed.\n",
    "### `Label()`: Displays a non-editable text or image to the user.\n",
    "### `Entry()`: Creates a single-line text input field for the user to enter data.\n",
    "### `Text()`: Provides a multi-line text input area where users can type or edit content.\n",
    "### `Frame()`: Acts as a container to group and organize multiple widgets inside it.\n",
    "### `Canvas()`: Allows for drawing shapes, lines, or placing images and other widgets in a flexible area.\n",
    "### `Listbox()`: Displays a list of items from which the user can select one or multiple options.\n",
    "### `Scrollbar()`: Adds vertical or horizontal scrolling capabilities to widgets like Text, Canvas, or Listbox.\n",
    "### `Radiobutton()`: Creates a radio button widget that allows the user to select one option from a set of mutually exclusive choices.\n",
    "### `Checkbutton()`: Provides a checkbox widget that allows the user to toggle between two states (checked/unchecked).\n",
    "### `Spinbox()`: Allows the user to select a value from a predefined range of values by clicking up or down arrows.\n",
    "### `Scale()`: Provides a slider widget that allows the user to select a numerical value by dragging the slider.\n",
    "### `Menu()`: Creates a drop-down menu that can be attached to a menubar or used as a context menu.\n",
    "### `Menubutton()`: Creates a button that, when clicked, displays a menu containing a list of choices."
   ]
  },
  {
   "cell_type": "markdown",
   "id": "5c737107-34e2-4215-88dc-506bd5a0b977",
   "metadata": {},
   "source": [
    "# <span style=color:yellow><u>Common Widget Methods"
   ]
  },
  {
   "cell_type": "markdown",
   "id": "af94d4d0-c3b2-499b-87a0-1890bb3cd9e7",
   "metadata": {},
   "source": [
    "### `pack()`: Pack geometry manager, which places widgets in a block.\n",
    "### `grid()`: Grid geometry manager, which places widgets in a grid.\n",
    "### `place()`: Places widgets at a specific location.\n",
    "### `configure()`: Configures the options for a widget (can also use config()).\n",
    "### `cget()`: Retrieves the value of a configuration option.\n",
    "### `bind()`: Binds a function to an event (like a button click or key press).\n",
    "### `unbind()`: Unbinds an event.\n",
    "### `focus_set()`: Sets the focus to a widget.\n",
    "### `focus_get()`: Retrieves the widget that currently has focus.\n",
    "### `after()`: Schedules a function to run after a delay.\n",
    "### `update()`: Forces the GUI to update immediately.\n",
    "### `update_idletasks()`: Processes pending idle tasks.\n",
    "### `winfo_children()`: Returns a list of the widget’s child widgets.\n",
    "### `winfo_height()`, `winfo_width()`: Returns the height and width of the widget.\n",
    "### `winfo_x()`, `winfo_y()`: Returns the x and y coordinates of the widget.\n",
    "### `winfo_toplevel()`: Returns the widget’s toplevel window."
   ]
  },
  {
   "cell_type": "markdown",
   "id": "bc23149d-9bd7-49a2-b0a9-f610aa3050b5",
   "metadata": {},
   "source": [
    "# <span style=color:yellow><u>Text and Entry Widgets"
   ]
  },
  {
   "cell_type": "markdown",
   "id": "a0e9fc03-1231-4f57-9199-dbf0ad184041",
   "metadata": {},
   "source": [
    "### `insert(index, text)`: Inserts text at the given index.\n",
    "### `delete(start, end)`: Deletes characters or lines from start to end.\n",
    "### `get(start, end)`: Retrieves text between the start and end indexes.\n",
    "### `mark_set()`: Sets a mark at a given index.\n",
    "### `tag_add()`, `tag_remove()`: Adds or removes tags for text formatting.\n",
    "### `see()`: Scrolls the widget to ensure that the given index is visible."
   ]
  },
  {
   "cell_type": "markdown",
   "id": "e392e297-079c-4c79-b6a3-28a4c8cd7efd",
   "metadata": {},
   "source": [
    "# <span style=color:yellow><u>Canvas Methods"
   ]
  },
  {
   "cell_type": "markdown",
   "id": "cf048f93-add1-461f-aec0-23d544cc4755",
   "metadata": {},
   "source": [
    "### `create_line()`: Creates a line between coordinates.\n",
    "### `create_rectangle()`: Creates a rectangle.\n",
    "### `create_oval()`: Creates an oval or circle.\n",
    "### `create_polygon()`: Creates a polygon.\n",
    "### `create_text()`: Places text at a given location.\n",
    "### `create_image()`: Places an image on the canvas.\n",
    "### `move()`: Moves a canvas item.\n",
    "### `coords()`: Gets or sets the coordinates of a canvas item.\n",
    "### `delete()`: Deletes a canvas item.\n",
    "### `tag_bind()`: Binds an event to a canvas item."
   ]
  },
  {
   "cell_type": "markdown",
   "id": "6d0e234f-779f-4dc8-9791-4fda7d8182ed",
   "metadata": {},
   "source": [
    "# <span style=color:yellow><u>Menu Methods"
   ]
  },
  {
   "cell_type": "markdown",
   "id": "51703b9d-7069-44d3-a4b2-f747a4a19741",
   "metadata": {},
   "source": [
    "### `add_command()`: Adds a command to the menu.\n",
    "### `add_separator()`: Adds a separator line to the menu.\n",
    "### `add_cascade()`: Adds a submenu to the menu.\n",
    "### `entryconfig()`: Configures an existing menu entry.\n",
    "### `delete()`: Deletes an entry from the menu."
   ]
  },
  {
   "cell_type": "markdown",
   "id": "1f76357f-2a4f-450a-83a3-257404de0f39",
   "metadata": {},
   "source": [
    "# <span style=color:yellow><u>Scrollbar Methods"
   ]
  },
  {
   "cell_type": "markdown",
   "id": "753e2c02-1463-48ba-9c60-7a0c9c6dff94",
   "metadata": {},
   "source": [
    "### `set()`: Sets the position of the scrollbar.\n",
    "### `get()`: Retrieves the current position of the scrollbar."
   ]
  },
  {
   "cell_type": "markdown",
   "id": "9178e7e2-fcb2-41ae-ad59-ca6e16cdfe60",
   "metadata": {},
   "source": [
    "# <span style=color:yellow><u>Messagebox Methods"
   ]
  },
  {
   "cell_type": "markdown",
   "id": "1f1a86a7-234a-4c52-b61f-a7046ef2cdbc",
   "metadata": {},
   "source": [
    "## <span style=color:violet>(These are functions from the `messagebox` module)"
   ]
  },
  {
   "cell_type": "markdown",
   "id": "10e89657-e588-4a27-afa0-4cbd42e5f83f",
   "metadata": {},
   "source": [
    "### `messagebox.showinfo()`: Displays an information dialog.\n",
    "### `messagebox.showwarning()`: Displays a warning dialog.\n",
    "### `messagebox.showerror()`: Displays an error dialog.\n",
    "### `messagebox.askquestion()`: Displays a yes/no question dialog.\n",
    "### `messagebox.askokcancel()`: Displays an OK/Cancel question dialog.\n",
    "### `messagebox.askyesno()`: Displays a Yes/No question dialog.\n",
    "### `messagebox.askretrycancel()`: Displays a Retry/Cancel question dialog."
   ]
  },
  {
   "cell_type": "markdown",
   "id": "24eabbc2-c111-45c3-9953-7559104877bc",
   "metadata": {},
   "source": [
    "# <span style=color:yellow><u>Dialog Methods"
   ]
  },
  {
   "cell_type": "markdown",
   "id": "09bdae62-3b8b-4117-8f09-b73c3a3e534c",
   "metadata": {},
   "source": [
    "### `askopenfilename()`: Opens a file dialog to select a file.\n",
    "### `asksaveasfilename()`: Opens a file dialog to save a file.\n",
    "### `askdirectory()`: Opens a file dialog to select a directory."
   ]
  },
  {
   "cell_type": "markdown",
   "id": "bb706c6f-4e4d-46f7-b2ce-12ba3f11160b",
   "metadata": {},
   "source": [
    "# <span style=color:yellow><u>Other Utility Methods"
   ]
  },
  {
   "cell_type": "markdown",
   "id": "85c7ecfa-2683-4f6d-b541-384d79164979",
   "metadata": {},
   "source": [
    "### `bell()`: Rings the bell on the computer.\n",
    "### `clipboard_append()`, `clipboard_clear()`: Manipulates the clipboard contents.\n",
    "### `grab_set()`: Grabs the focus of the application.\n",
    "### `grab_r`elease()`: Releases the focus.\n",
    "### `lift()`: Raises a widget above others.\n",
    "### `lower()`: Lowers a widget below others."
   ]
  },
  {
   "cell_type": "markdown",
   "id": "59da0255-92c2-44ea-8b3e-749e59fa45c7",
   "metadata": {},
   "source": [
    "-----------------------------------------------------------------------------------------------"
   ]
  },
  {
   "cell_type": "markdown",
   "id": "314e3f7d-bc9b-4629-9816-8b6e3fe94dd4",
   "metadata": {},
   "source": [
    "------------------------------------------------------"
   ]
  },
  {
   "cell_type": "code",
   "execution_count": null,
   "id": "84f09365-75b3-4c3d-b088-56330c6b4aed",
   "metadata": {},
   "outputs": [],
   "source": [
    "import tkinter as tk\n",
    "root = tk.Tk()\n",
    "root.title(\"Main Loop Example\")\n",
    "root.mainloop()  # Starts the GUI loop\n"
   ]
  },
  {
   "cell_type": "code",
   "execution_count": null,
   "id": "39702dce-78cf-4d01-ae87-3f3b7d554d4f",
   "metadata": {},
   "outputs": [],
   "source": [
    "import tkinter as tk\n",
    "\n",
    "root = tk.Tk()\n",
    "root.withdraw()  # Hides the window\n",
    "root.after(3000, root.deiconify)  # Shows the window after 3 seconds\n",
    "root.mainloop()\n"
   ]
  },
  {
   "cell_type": "code",
   "execution_count": 13,
   "id": "52de6d58-9b62-45d6-aa34-c5994a61cecb",
   "metadata": {},
   "outputs": [
    {
     "ename": "KeyboardInterrupt",
     "evalue": "",
     "output_type": "error",
     "traceback": [
      "\u001b[1;31m---------------------------------------------------------------------------\u001b[0m",
      "\u001b[1;31mKeyboardInterrupt\u001b[0m                         Traceback (most recent call last)",
      "Cell \u001b[1;32mIn[13], line 9\u001b[0m\n\u001b[0;32m      7\u001b[0m button \u001b[38;5;241m=\u001b[39m tk\u001b[38;5;241m.\u001b[39mButton(root, text\u001b[38;5;241m=\u001b[39m\u001b[38;5;124m\"\u001b[39m\u001b[38;5;124mClose\u001b[39m\u001b[38;5;124m\"\u001b[39m, command\u001b[38;5;241m=\u001b[39mclose_app)\n\u001b[0;32m      8\u001b[0m button\u001b[38;5;241m.\u001b[39mpack()\n\u001b[1;32m----> 9\u001b[0m \u001b[43mroot\u001b[49m\u001b[38;5;241;43m.\u001b[39;49m\u001b[43mmainloop\u001b[49m\u001b[43m(\u001b[49m\u001b[43m)\u001b[49m\n",
      "File \u001b[1;32m~\\AppData\\Local\\Programs\\Python\\Python312\\Lib\\tkinter\\__init__.py:1504\u001b[0m, in \u001b[0;36mMisc.mainloop\u001b[1;34m(self, n)\u001b[0m\n\u001b[0;32m   1502\u001b[0m \u001b[38;5;28;01mdef\u001b[39;00m \u001b[38;5;21mmainloop\u001b[39m(\u001b[38;5;28mself\u001b[39m, n\u001b[38;5;241m=\u001b[39m\u001b[38;5;241m0\u001b[39m):\n\u001b[0;32m   1503\u001b[0m \u001b[38;5;250m    \u001b[39m\u001b[38;5;124;03m\"\"\"Call the mainloop of Tk.\"\"\"\u001b[39;00m\n\u001b[1;32m-> 1504\u001b[0m     \u001b[38;5;28;43mself\u001b[39;49m\u001b[38;5;241;43m.\u001b[39;49m\u001b[43mtk\u001b[49m\u001b[38;5;241;43m.\u001b[39;49m\u001b[43mmainloop\u001b[49m\u001b[43m(\u001b[49m\u001b[43mn\u001b[49m\u001b[43m)\u001b[49m\n",
      "\u001b[1;31mKeyboardInterrupt\u001b[0m: "
     ]
    }
   ],
   "source": [
    "import tkinter as tk\n",
    "\n",
    "def close_app():\n",
    "    root.destroy()\n",
    "\n",
    "root = tk.Tk()\n",
    "button = tk.Button(root, text=\"Close\", command=close_app)\n",
    "button.pack()\n",
    "root.mainloop()\n"
   ]
  },
  {
   "cell_type": "code",
   "execution_count": 14,
   "id": "1091d56b-b0d9-45a0-a242-4e42af7b70c7",
   "metadata": {},
   "outputs": [
    {
     "ename": "KeyboardInterrupt",
     "evalue": "",
     "output_type": "error",
     "traceback": [
      "\u001b[1;31m---------------------------------------------------------------------------\u001b[0m",
      "\u001b[1;31mKeyboardInterrupt\u001b[0m                         Traceback (most recent call last)",
      "Cell \u001b[1;32mIn[14], line 5\u001b[0m\n\u001b[0;32m      3\u001b[0m root \u001b[38;5;241m=\u001b[39m tk\u001b[38;5;241m.\u001b[39mTk()\n\u001b[0;32m      4\u001b[0m root\u001b[38;5;241m.\u001b[39mgeometry(\u001b[38;5;124m\"\u001b[39m\u001b[38;5;124m400x300\u001b[39m\u001b[38;5;124m\"\u001b[39m)  \u001b[38;5;66;03m# Sets the window size to 400x300 pixels\u001b[39;00m\n\u001b[1;32m----> 5\u001b[0m \u001b[43mroot\u001b[49m\u001b[38;5;241;43m.\u001b[39;49m\u001b[43mmainloop\u001b[49m\u001b[43m(\u001b[49m\u001b[43m)\u001b[49m\n",
      "File \u001b[1;32m~\\AppData\\Local\\Programs\\Python\\Python312\\Lib\\tkinter\\__init__.py:1504\u001b[0m, in \u001b[0;36mMisc.mainloop\u001b[1;34m(self, n)\u001b[0m\n\u001b[0;32m   1502\u001b[0m \u001b[38;5;28;01mdef\u001b[39;00m \u001b[38;5;21mmainloop\u001b[39m(\u001b[38;5;28mself\u001b[39m, n\u001b[38;5;241m=\u001b[39m\u001b[38;5;241m0\u001b[39m):\n\u001b[0;32m   1503\u001b[0m \u001b[38;5;250m    \u001b[39m\u001b[38;5;124;03m\"\"\"Call the mainloop of Tk.\"\"\"\u001b[39;00m\n\u001b[1;32m-> 1504\u001b[0m     \u001b[38;5;28;43mself\u001b[39;49m\u001b[38;5;241;43m.\u001b[39;49m\u001b[43mtk\u001b[49m\u001b[38;5;241;43m.\u001b[39;49m\u001b[43mmainloop\u001b[49m\u001b[43m(\u001b[49m\u001b[43mn\u001b[49m\u001b[43m)\u001b[49m\n",
      "\u001b[1;31mKeyboardInterrupt\u001b[0m: "
     ]
    }
   ],
   "source": [
    "import tkinter as tk\n",
    "\n",
    "root = tk.Tk()\n",
    "root.geometry(\"400x300\")  # Sets the window size to 400x300 pixels\n",
    "root.mainloop()\n"
   ]
  },
  {
   "cell_type": "code",
   "execution_count": null,
   "id": "afae5b92-c2f8-46e2-b053-b4a863334cab",
   "metadata": {},
   "outputs": [],
   "source": [
    "import tkinter as tk\n",
    "\n",
    "def on_click():\n",
    "    print(\"Button clicked!\")\n",
    "\n",
    "root = tk.Tk()\n",
    "button = tk.Button(root, text=\"Click Me\", command=on_click)\n",
    "button.pack()\n",
    "root.mainloop()\n"
   ]
  },
  {
   "cell_type": "code",
   "execution_count": 15,
   "id": "aa5c370b-501e-4518-b650-a12ed72d9dd8",
   "metadata": {},
   "outputs": [
    {
     "ename": "KeyboardInterrupt",
     "evalue": "",
     "output_type": "error",
     "traceback": [
      "\u001b[1;31m---------------------------------------------------------------------------\u001b[0m",
      "\u001b[1;31mKeyboardInterrupt\u001b[0m                         Traceback (most recent call last)",
      "Cell \u001b[1;32mIn[15], line 6\u001b[0m\n\u001b[0;32m      4\u001b[0m label \u001b[38;5;241m=\u001b[39m tk\u001b[38;5;241m.\u001b[39mLabel(root, text\u001b[38;5;241m=\u001b[39m\u001b[38;5;124m\"\u001b[39m\u001b[38;5;124mHello, Tkinter!\u001b[39m\u001b[38;5;124m\"\u001b[39m)\n\u001b[0;32m      5\u001b[0m label\u001b[38;5;241m.\u001b[39mpack()\n\u001b[1;32m----> 6\u001b[0m \u001b[43mroot\u001b[49m\u001b[38;5;241;43m.\u001b[39;49m\u001b[43mmainloop\u001b[49m\u001b[43m(\u001b[49m\u001b[43m)\u001b[49m\n",
      "File \u001b[1;32m~\\AppData\\Local\\Programs\\Python\\Python312\\Lib\\tkinter\\__init__.py:1504\u001b[0m, in \u001b[0;36mMisc.mainloop\u001b[1;34m(self, n)\u001b[0m\n\u001b[0;32m   1502\u001b[0m \u001b[38;5;28;01mdef\u001b[39;00m \u001b[38;5;21mmainloop\u001b[39m(\u001b[38;5;28mself\u001b[39m, n\u001b[38;5;241m=\u001b[39m\u001b[38;5;241m0\u001b[39m):\n\u001b[0;32m   1503\u001b[0m \u001b[38;5;250m    \u001b[39m\u001b[38;5;124;03m\"\"\"Call the mainloop of Tk.\"\"\"\u001b[39;00m\n\u001b[1;32m-> 1504\u001b[0m     \u001b[38;5;28;43mself\u001b[39;49m\u001b[38;5;241;43m.\u001b[39;49m\u001b[43mtk\u001b[49m\u001b[38;5;241;43m.\u001b[39;49m\u001b[43mmainloop\u001b[49m\u001b[43m(\u001b[49m\u001b[43mn\u001b[49m\u001b[43m)\u001b[49m\n",
      "\u001b[1;31mKeyboardInterrupt\u001b[0m: "
     ]
    }
   ],
   "source": [
    "import tkinter as tk\n",
    "\n",
    "root = tk.Tk()\n",
    "label = tk.Label(root, text=\"Hello, Tkinter!\")\n",
    "label.pack()\n",
    "root.mainloop()\n"
   ]
  },
  {
   "cell_type": "code",
   "execution_count": null,
   "id": "10e2c66b-e529-495b-af57-fac00119d8fa",
   "metadata": {},
   "outputs": [],
   "source": [
    "import tkinter as tk\n",
    "\n",
    "root = tk.Tk()\n",
    "entry = tk.Entry(root)\n",
    "entry.pack()\n",
    "root.mainloop()\n"
   ]
  },
  {
   "cell_type": "code",
   "execution_count": null,
   "id": "7314c8f4-0883-4fad-b57d-97374241d331",
   "metadata": {},
   "outputs": [],
   "source": [
    "import tkinter as tk\n",
    "\n",
    "root = tk.Tk()\n",
    "label = tk.Label(root, text=\"Packed Label\")\n",
    "label.pack()  # Packs the label into the window\n",
    "root.mainloop()\n"
   ]
  },
  {
   "cell_type": "code",
   "execution_count": 16,
   "id": "25cec2fd-46cf-430c-99eb-7396c27b20fe",
   "metadata": {},
   "outputs": [
    {
     "ename": "KeyboardInterrupt",
     "evalue": "",
     "output_type": "error",
     "traceback": [
      "\u001b[1;31m---------------------------------------------------------------------------\u001b[0m",
      "\u001b[1;31mKeyboardInterrupt\u001b[0m                         Traceback (most recent call last)",
      "Cell \u001b[1;32mIn[16], line 8\u001b[0m\n\u001b[0;32m      6\u001b[0m label1\u001b[38;5;241m.\u001b[39mgrid(row\u001b[38;5;241m=\u001b[39m\u001b[38;5;241m0\u001b[39m, column\u001b[38;5;241m=\u001b[39m\u001b[38;5;241m0\u001b[39m)\n\u001b[0;32m      7\u001b[0m label2\u001b[38;5;241m.\u001b[39mgrid(row\u001b[38;5;241m=\u001b[39m\u001b[38;5;241m1\u001b[39m, column\u001b[38;5;241m=\u001b[39m\u001b[38;5;241m1\u001b[39m)\n\u001b[1;32m----> 8\u001b[0m \u001b[43mroot\u001b[49m\u001b[38;5;241;43m.\u001b[39;49m\u001b[43mmainloop\u001b[49m\u001b[43m(\u001b[49m\u001b[43m)\u001b[49m\n",
      "File \u001b[1;32m~\\AppData\\Local\\Programs\\Python\\Python312\\Lib\\tkinter\\__init__.py:1504\u001b[0m, in \u001b[0;36mMisc.mainloop\u001b[1;34m(self, n)\u001b[0m\n\u001b[0;32m   1502\u001b[0m \u001b[38;5;28;01mdef\u001b[39;00m \u001b[38;5;21mmainloop\u001b[39m(\u001b[38;5;28mself\u001b[39m, n\u001b[38;5;241m=\u001b[39m\u001b[38;5;241m0\u001b[39m):\n\u001b[0;32m   1503\u001b[0m \u001b[38;5;250m    \u001b[39m\u001b[38;5;124;03m\"\"\"Call the mainloop of Tk.\"\"\"\u001b[39;00m\n\u001b[1;32m-> 1504\u001b[0m     \u001b[38;5;28;43mself\u001b[39;49m\u001b[38;5;241;43m.\u001b[39;49m\u001b[43mtk\u001b[49m\u001b[38;5;241;43m.\u001b[39;49m\u001b[43mmainloop\u001b[49m\u001b[43m(\u001b[49m\u001b[43mn\u001b[49m\u001b[43m)\u001b[49m\n",
      "\u001b[1;31mKeyboardInterrupt\u001b[0m: "
     ]
    }
   ],
   "source": [
    "import tkinter as tk\n",
    "\n",
    "root = tk.Tk()\n",
    "label1 = tk.Label(root, text=\"Label 1\")\n",
    "label2 = tk.Label(root, text=\"Label 2\")\n",
    "label1.grid(row=0, column=0)\n",
    "label2.grid(row=1, column=1)\n",
    "root.mainloop()\n"
   ]
  },
  {
   "cell_type": "code",
   "execution_count": null,
   "id": "d6887ff2-eff2-4a56-ac49-e282c0b6c137",
   "metadata": {},
   "outputs": [],
   "source": [
    "import tkinter as tk\n",
    "\n",
    "root = tk.Tk()\n",
    "label = tk.Label(root, text=\"Placed Label\")\n",
    "label.place(x=50, y=50)  # Places the label at position (50, 50)\n",
    "root.mainloop()\n"
   ]
  },
  {
   "cell_type": "code",
   "execution_count": null,
   "id": "f5564c11-1b54-4f66-8417-ba6f998049da",
   "metadata": {},
   "outputs": [],
   "source": [
    "import tkinter as tk\n",
    "\n",
    "root = tk.Tk()\n",
    "label = tk.Label(root, text=\"Old Text\")\n",
    "label.pack()\n",
    "\n",
    "label.configure(text=\"New Text\")  # Changes the label text\n",
    "root.mainloop()\n"
   ]
  },
  {
   "cell_type": "code",
   "execution_count": null,
   "id": "a309764e-851a-4504-9c79-7b739f55a9a5",
   "metadata": {},
   "outputs": [],
   "source": [
    "import tkinter as tk\n",
    "\n",
    "def on_click(event):\n",
    "    print(\"Label clicked!\")\n",
    "\n",
    "root = tk.Tk()\n",
    "label = tk.Label(root, text=\"Click Me\")\n",
    "label.pack()\n",
    "label.bind(\"<Button-1>\", on_click)  # Binds left-click to the label\n",
    "root.mainloop()\n"
   ]
  },
  {
   "cell_type": "code",
   "execution_count": null,
   "id": "2429f447-63c4-40d7-9a00-8672711d1327",
   "metadata": {},
   "outputs": [],
   "source": [
    "import tkinter as tk\n",
    "\n",
    "root = tk.Tk()\n",
    "entry = tk.Entry(root)\n",
    "entry.pack()\n",
    "entry.insert(0, \"Initial Text\")  # Inserts text at position 0\n",
    "root.mainloop()\n"
   ]
  },
  {
   "cell_type": "code",
   "execution_count": null,
   "id": "94f2b997-41e8-4621-a1ac-8fa78763df74",
   "metadata": {},
   "outputs": [],
   "source": [
    "import tkinter as tk\n",
    "\n",
    "root = tk.Tk()\n",
    "entry = tk.Entry(root)\n",
    "entry.pack()\n",
    "entry.insert(0, \"Delete Me\")\n",
    "entry.delete(0, 5)  # Deletes characters from position 0 to 5\n",
    "root.mainloop()\n"
   ]
  },
  {
   "cell_type": "code",
   "execution_count": null,
   "id": "1e3e353c-8059-46a1-a635-14534871fffe",
   "metadata": {},
   "outputs": [],
   "source": [
    "import tkinter as tk\n",
    "\n",
    "def show_content():\n",
    "    print(entry.get())  # Gets the current text from the entry\n",
    "\n",
    "root = tk.Tk()\n",
    "entry = tk.Entry(root)\n",
    "entry.pack()\n",
    "\n",
    "button = tk.Button(root, text=\"Show Content\", command=show_content)\n",
    "croot.mainloop()\n"
   ]
  },
  {
   "cell_type": "code",
   "execution_count": null,
   "id": "39ab08a2-1c37-45cf-85c9-8e13799fb8c3",
   "metadata": {},
   "outputs": [],
   "source": [
    "import tkinter as tk\n",
    "\n",
    "root = tk.Tk()\n",
    "canvas = tk.Canvas(root, width=200, height=200)\n",
    "canvas.pack()\n",
    "canvas.create_line(0, 0, 200, 200)  # Draws a line\n",
    "root.mainloop()\n"
   ]
  },
  {
   "cell_type": "code",
   "execution_count": null,
   "id": "e4a9a26c-1a9d-4e58-bc45-3e9f29d6e54d",
   "metadata": {},
   "outputs": [],
   "source": [
    "import tkinter as tk\n",
    "\n",
    "root = tk.Tk()\n",
    "canvas = tk.Canvas(root, width=200, height=200)\n",
    "canvas.pack()\n",
    "canvas.create_rectangle(50, 50, 150, 150, fill=\"blue\")  # Draws a rectangle\n",
    "root.mainloop()\n"
   ]
  },
  {
   "cell_type": "code",
   "execution_count": null,
   "id": "11b6bff4-6d43-464a-a819-a76dc695054c",
   "metadata": {},
   "outputs": [],
   "source": [
    "import tkinter as tk\n",
    "\n",
    "root = tk.Tk()\n",
    "canvas = tk.Canvas(root, width=200, height=200)\n",
    "canvas.pack()\n",
    "canvas.create_oval(50, 50, 150, 150, fill=\"red\")  # Draws an oval\n",
    "root.mainloop()\n"
   ]
  },
  {
   "cell_type": "code",
   "execution_count": null,
   "id": "ccefbd47-be54-4ab7-b091-eda65b395c70",
   "metadata": {},
   "outputs": [],
   "source": [
    "import tkinter as tk\n",
    "\n",
    "root = tk.Tk()\n",
    "menubar = tk.Menu(root)\n",
    "filemenu = tk.Menu(menubar, tearoff=0)\n",
    "filemenu.add_command(label=\"Open\")\n",
    "filemenu.add_command(label=\"Save\")\n",
    "filemenu.add_command(label=\"Exit\", command=root.quit)\n",
    "menubar.add_cascade(label=\"File\", menu=filemenu)\n",
    "root.config(menu=menubar)\n",
    "root.mainloop()\n"
   ]
  },
  {
   "cell_type": "code",
   "execution_count": null,
   "id": "f6e386d4-e00a-4c97-8bb4-b5b691b5be47",
   "metadata": {},
   "outputs": [],
   "source": [
    "import tkinter as tk\n",
    "\n",
    "root = tk.Tk()\n",
    "scrollbar = tk.Scrollbar(root)\n",
    "scrollbar.pack(side=tk.RIGHT, fill=tk.Y)\n",
    "\n",
    "text = tk.Text(root, yscrollcommand=scrollbar.set)\n",
    "text.pack(side=tk.LEFT)\n",
    "scrollbar.config(command=text.yview)\n",
    "root.mainloop()\n"
   ]
  },
  {
   "cell_type": "code",
   "execution_count": null,
   "id": "53744b34-b0dc-4df1-bdaf-d16b5fb4843c",
   "metadata": {},
   "outputs": [],
   "source": [
    "import tkinter as tk\n",
    "from tkinter import messagebox\n",
    "\n",
    "def show_message():\n",
    "    messagebox.showinfo(\"Info\", \"This is an information message!\")\n",
    "\n",
    "root = tk.Tk()\n",
    "button = tk.Button(root, text=\"Show Info\", command=show_message)\n",
    "button.pack()\n",
    "root.mainloop()\n"
   ]
  },
  {
   "cell_type": "code",
   "execution_count": null,
   "id": "a4015ee8-e36e-49ea-9ae2-4341b4afcdfe",
   "metadata": {},
   "outputs": [],
   "source": [
    "import tkinter as tk\n",
    "from tkinter import filedialog\n",
    "\n",
    "def open_file():\n",
    "    filename = filedialog.askopenfilename()\n",
    "    print(f\"Selected file: {filename}\")\n",
    "\n",
    "root = tk.Tk()\n",
    "button = tk.Button(root, text=\"Open File\", command=open_file)\n",
    "button.pack()\n",
    "root.mainloop()\n"
   ]
  },
  {
   "cell_type": "code",
   "execution_count": 1,
   "id": "67efd948-2354-430c-860d-7526c4cac9c8",
   "metadata": {},
   "outputs": [],
   "source": [
    "import tkinter as tk\n",
    "\n",
    "def on_click(event):\n",
    "    text = event.widget.cget(\"text\")\n",
    "    \n",
    "    if text == \"=\":\n",
    "        try:\n",
    "            result = eval(screen.get())\n",
    "            screen_var.set(result)\n",
    "        except Exception as e:\n",
    "            screen_var.set(\"Error\")\n",
    "    elif text == \"C\":\n",
    "        screen_var.set(\"\")\n",
    "    else:\n",
    "        screen_var.set(screen_var.get() + text)\n",
    "\n",
    "root = tk.Tk()\n",
    "root.title(\"Calculator\")\n",
    "\n",
    "screen_var = tk.StringVar()\n",
    "screen = tk.Entry(root, textvar=screen_var, font=\"lucida 20 bold\")\n",
    "screen.grid(row=0, column=0, columnspan=4)\n",
    "\n",
    "buttons = [\n",
    "    \"7\", \"8\", \"9\", \"/\",\n",
    "    \"4\", \"5\", \"6\", \"*\",\n",
    "    \"1\", \"2\", \"3\", \"-\",\n",
    "    \"C\", \"0\", \"=\", \"+\"\n",
    "]\n",
    "\n",
    "row, col = 1, 0\n",
    "for button in buttons:\n",
    "    btn = tk.Button(root, text=button, font=\"lucida 15 bold\", padx=20, pady=15)\n",
    "    btn.grid(row=row, column=col)\n",
    "    btn.bind(\"<Button-1>\", on_click)\n",
    "    \n",
    "    col += 1\n",
    "    if col > 3:\n",
    "        col = 0\n",
    "        row += 1\n",
    "\n",
    "root.mainloop()\n"
   ]
  },
  {
   "cell_type": "code",
   "execution_count": null,
   "id": "2e9614a4-2535-4899-9561-f90db38bad91",
   "metadata": {},
   "outputs": [],
   "source": []
  }
 ],
 "metadata": {
  "kernelspec": {
   "display_name": "Python 3 (ipykernel)",
   "language": "python",
   "name": "python3"
  },
  "language_info": {
   "codemirror_mode": {
    "name": "ipython",
    "version": 3
   },
   "file_extension": ".py",
   "mimetype": "text/x-python",
   "name": "python",
   "nbconvert_exporter": "python",
   "pygments_lexer": "ipython3",
   "version": "3.12.2"
  }
 },
 "nbformat": 4,
 "nbformat_minor": 5
}
