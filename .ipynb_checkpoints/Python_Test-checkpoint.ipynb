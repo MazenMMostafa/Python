{
 "cells": [
  {
   "cell_type": "markdown",
   "id": "cf2d5830-c440-4628-9b2d-b0eebe5e9b14",
   "metadata": {},
   "source": [
    "# <span style=\"color:#FF7F7F; font-weight:bold\"><u>Introduction:\n",
    "### <b><span style=\"color:#0072e3\">Source Code:<span style=\"color:White\"> the main Code\n",
    "### <b><span style=\"color:#0072e3\">Compilation:<span style=\"color:White\"> it comes from compiler the compiler is the tool that convert the programming language from english letters to machine language before run time (C,C++,C#,Rust)\n",
    "### <b><span style=\"color:#0072e3\">Run time:<span style=\"color:White\"> execution time period\n",
    "### <b><span style=\"color:#0072e3\">Interpreted:<span style=\"color:White\"> comes from interpreter the code is converted during run time (Python,Java,Ruby)\n"
   ]
  },
  {
   "cell_type": "markdown",
   "id": "c6fa06f6-3184-4600-8820-6f5c1d03c8fb",
   "metadata": {},
   "source": [
    "# Printing String in one line"
   ]
  },
  {
   "cell_type": "code",
   "execution_count": null,
   "id": "5a5b33e7-7840-4fb9-9cfe-1ce94aec6c32",
   "metadata": {},
   "outputs": [],
   "source": [
    "print(\"Mazen Mounir\")"
   ]
  },
  {
   "cell_type": "markdown",
   "id": "bf7e0c2e-df2d-4083-b563-a614089667a6",
   "metadata": {},
   "source": [
    "# Printing String in two lines"
   ]
  },
  {
   "cell_type": "code",
   "execution_count": null,
   "id": "4139f964-8842-4829-8c67-38ea9fb77214",
   "metadata": {},
   "outputs": [],
   "source": [
    "print(\"Mazen\")\n",
    "print(\"Mounir\")"
   ]
  },
  {
   "cell_type": "markdown",
   "id": "53d9a5f3-5fac-4de2-ac37-4fafa0c934a4",
   "metadata": {},
   "source": [
    "# Printing String in two lines in one print"
   ]
  },
  {
   "cell_type": "code",
   "execution_count": null,
   "id": "a96b2f9f-014e-46a2-b1a8-06ad65854383",
   "metadata": {},
   "outputs": [],
   "source": [
    "print(\"Mazen\\nMounir\")"
   ]
  },
  {
   "cell_type": "markdown",
   "id": "41879397-7a14-47c1-b16e-5c33bd81eb1d",
   "metadata": {},
   "source": [
    "# <span style=\"color:Red\">Errors\n",
    "## Error types:\n",
    "###  Syntax Error\n",
    "###  Logic Error"
   ]
  },
  {
   "cell_type": "markdown",
   "id": "3987ec6d-811b-4ef4-bc65-723bc0cb7c38",
   "metadata": {},
   "source": [
    "# <b><span style=\"color:#0072e3\">Syntax:\n",
    "## <span style=\"color:#53e50f\">Syntax is the coding grammer and writing rules"
   ]
  },
  {
   "cell_type": "code",
   "execution_count": null,
   "id": "de99f349-e96a-4d5a-a237-df13d40420e1",
   "metadata": {},
   "outputs": [],
   "source": [
    "Print(\"Mazen\")"
   ]
  },
  {
   "cell_type": "code",
   "execution_count": null,
   "id": "e37c5919-4ff6-4d8f-ac65-c22d257d0125",
   "metadata": {},
   "outputs": [],
   "source": [
    "print(Mazen)"
   ]
  },
  {
   "cell_type": "code",
   "execution_count": null,
   "id": "29ec255a-03aa-4040-9165-ec81c0974053",
   "metadata": {},
   "outputs": [],
   "source": [
    "print Mazen"
   ]
  },
  {
   "cell_type": "code",
   "execution_count": null,
   "id": "9355c4a2-bfa4-4c89-a6c5-dd24a43156fd",
   "metadata": {},
   "outputs": [],
   "source": [
    "print[\"Mazen\"]"
   ]
  },
  {
   "cell_type": "code",
   "execution_count": null,
   "id": "3f745d50-056c-43fc-a981-724a872cc8b0",
   "metadata": {},
   "outputs": [],
   "source": [
    "print{\"Mazen\"}"
   ]
  },
  {
   "cell_type": "markdown",
   "id": "a1b6c573-1fe8-40e2-a534-64c665a95f77",
   "metadata": {},
   "source": [
    "# <span style=\"color:Red\">What is a variable?\n",
    "### Variable is like a box that holding a thing. Example: x=\n",
    "## <b><u><span style=\"color:#ae800e\">Box holding numbers\n",
    "### <b>Types of numbers:\n",
    "### <span style=\"color:#0072e3\">Integers -> 1 2 3 4     ...etc</span>: Integers is a whole numbers and their negative.\n",
    "### <span style=\"color:#0072e3\">Float -> 1.53 1.1 5.2   ...etc</span>: Float is any number with decimal point and their negative.\n",
    "### <span style=\"color:#0072e3\">Complex -> 1+2j 3j 2-j  ...etc</span>: Complex is imaginary number by adding j and j=sqrt(-1)\n",
    "## <b><u><span style=\"color:#ae800e\">Box holding letters\n",
    "## <span style=\"color:#0072e3\">letters in programming called char and when we combine more than char we get string\n",
    "# <span style=\"color:#0072e3\">String is anything between \" \" or ' '\n",
    "## 'A' \"a\" 'B' 'b' '1' '2' '121341' \"Mazen\" all these are strings"
   ]
  },
  {
   "cell_type": "code",
   "execution_count": null,
   "id": "95f46593-4a28-4622-8f63-a6f01224af13",
   "metadata": {},
   "outputs": [],
   "source": [
    "Name=\"Mazen Mounir\"\n",
    "Job=\"Instructor\"\n",
    "Age=25"
   ]
  },
  {
   "cell_type": "code",
   "execution_count": null,
   "id": "87ffd284-c5c0-4ae9-b1be-500c0ba36b50",
   "metadata": {},
   "outputs": [],
   "source": [
    "print(Name)"
   ]
  },
  {
   "cell_type": "code",
   "execution_count": null,
   "id": "6ff5c1aa-a9e4-42f5-be23-137f8a33e8b9",
   "metadata": {},
   "outputs": [],
   "source": [
    "print(Job)"
   ]
  },
  {
   "cell_type": "code",
   "execution_count": null,
   "id": "e881d47d-16c0-43dd-bb5f-30dc6a86e304",
   "metadata": {},
   "outputs": [],
   "source": [
    "print(Age)"
   ]
  },
  {
   "cell_type": "markdown",
   "id": "6fc1effb-80ea-430f-a605-c270a955153e",
   "metadata": {},
   "source": [
    "# <span style=\"color:Red\">Logic Error"
   ]
  },
  {
   "cell_type": "code",
   "execution_count": null,
   "id": "18d22d90-13fb-490f-be03-d25c41862b4f",
   "metadata": {},
   "outputs": [],
   "source": [
    "print(\"Name\")"
   ]
  },
  {
   "cell_type": "code",
   "execution_count": null,
   "id": "c5416e81-abc6-495f-941a-7aaffbdd7579",
   "metadata": {},
   "outputs": [],
   "source": [
    "print(\"Job\")"
   ]
  },
  {
   "cell_type": "markdown",
   "id": "0bb739b5-0ed9-4b84-9314-192614d75137",
   "metadata": {},
   "source": [
    "# Check variable data type"
   ]
  },
  {
   "cell_type": "code",
   "execution_count": null,
   "id": "1f7c7bf1-020d-4cff-a4c2-8be2110e7bd3",
   "metadata": {},
   "outputs": [],
   "source": [
    "x=10\n",
    "y=3.1\n",
    "k=2+3j\n",
    "u='a'"
   ]
  },
  {
   "cell_type": "code",
   "execution_count": null,
   "id": "09f87934-12b6-412f-b833-9df99da648cb",
   "metadata": {},
   "outputs": [],
   "source": [
    "print(type(x))"
   ]
  },
  {
   "cell_type": "code",
   "execution_count": null,
   "id": "8f4f6fbf-92ee-431a-87a9-8de526e5e31b",
   "metadata": {},
   "outputs": [],
   "source": [
    "print(type(y))"
   ]
  },
  {
   "cell_type": "code",
   "execution_count": null,
   "id": "ee3305f8-f76f-46b3-9b18-e746431e0701",
   "metadata": {},
   "outputs": [],
   "source": [
    "print(type(u))"
   ]
  },
  {
   "cell_type": "code",
   "execution_count": null,
   "id": "5e4783f8-44f4-456e-8c25-ad7cfd8cc1cf",
   "metadata": {},
   "outputs": [],
   "source": [
    "print(type(k))"
   ]
  },
  {
   "cell_type": "markdown",
   "id": "5a5c3d17-3404-4f5a-aa2e-ee5161524db2",
   "metadata": {},
   "source": [
    "# Arithmetic Operations"
   ]
  },
  {
   "cell_type": "code",
   "execution_count": null,
   "id": "73a983da-6e3b-4275-8006-d2da148b97fe",
   "metadata": {},
   "outputs": [],
   "source": [
    "x=10\n",
    "y=3.0\n",
    "print(x+y)"
   ]
  },
  {
   "cell_type": "code",
   "execution_count": null,
   "id": "fc1552b7-709e-4252-8af9-58d7d686576c",
   "metadata": {},
   "outputs": [],
   "source": [
    "x=10\n",
    "y=3.0\n",
    "print(x-y)\n"
   ]
  },
  {
   "cell_type": "code",
   "execution_count": null,
   "id": "9595a545-1e4c-42ae-8e12-9c93ae10e7af",
   "metadata": {},
   "outputs": [],
   "source": [
    "x=10\n",
    "y=3.0\n",
    "print(x*y)\n"
   ]
  },
  {
   "cell_type": "code",
   "execution_count": null,
   "id": "3f584f3b-5cae-4753-b776-c01ac8998832",
   "metadata": {},
   "outputs": [],
   "source": [
    "x=10\n",
    "y=2.0\n",
    "print(x**y)"
   ]
  },
  {
   "cell_type": "code",
   "execution_count": null,
   "id": "c9a22768-3eae-4e90-a42f-b984a79cbb3a",
   "metadata": {},
   "outputs": [],
   "source": [
    "x=10\n",
    "y=3.0\n",
    "print(x/y)\n"
   ]
  },
  {
   "cell_type": "code",
   "execution_count": null,
   "id": "59308b96-1cb8-4784-8bb8-a5a35c5227cd",
   "metadata": {},
   "outputs": [],
   "source": [
    "x=10\n",
    "y=3.0\n",
    "print(x//y)\n"
   ]
  },
  {
   "cell_type": "markdown",
   "id": "a8e93440-f7a3-48e3-b39b-c24c3a28c7a9",
   "metadata": {},
   "source": [
    "# <span style=\"color:#FF7F7F; font-weight:bold\"><u>Precedence and Associativity"
   ]
  },
  {
   "cell_type": "markdown",
   "id": "0be89ccd-79d6-4899-a022-dd801f7b60a1",
   "metadata": {},
   "source": [
    "### Brackets ()\n",
    "### Power **\n",
    "### Unary operators +x,-x\n",
    "### mul,div,floor div,modulus *,/,//,%\n",
    "### plus,minus +,-\n",
    "https://www.programiz.com/python-programming/precedence-associativity"
   ]
  }
 ],
 "metadata": {
  "kernelspec": {
   "display_name": "Python 3 (ipykernel)",
   "language": "python",
   "name": "python3"
  },
  "language_info": {
   "codemirror_mode": {
    "name": "ipython",
    "version": 3
   },
   "file_extension": ".py",
   "mimetype": "text/x-python",
   "name": "python",
   "nbconvert_exporter": "python",
   "pygments_lexer": "ipython3",
   "version": "3.12.2"
  }
 },
 "nbformat": 4,
 "nbformat_minor": 5
}
