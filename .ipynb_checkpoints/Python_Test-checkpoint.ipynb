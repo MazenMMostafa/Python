{
 "cells": [
  {
   "cell_type": "markdown",
   "id": "cf2d5830-c440-4628-9b2d-b0eebe5e9b14",
   "metadata": {},
   "source": [
    "# <b><span style=color:#770fe5>Introduction:\n",
    "### <b><span style=\"color:#0072e3\">Source Code:<span style=\"color:White\"> the main Code\n",
    "### <b><span style=\"color:#0072e3\">Compilation:<span style=\"color:White\"> it comes from compiler the compiler is the tool that convert the programming language from english letters to machine language before run time (C,C++,C#,Rust)\n",
    "### <b><span style=\"color:#0072e3\">Run time:<span style=\"color:White\"> execution time period\n",
    "### <b><span style=\"color:#0072e3\">Interpreted:<span style=\"color:White\"> comes from interpreter the code is converted during run time (Python,Java,Ruby)\n"
   ]
  },
  {
   "cell_type": "code",
   "execution_count": null,
   "id": "5a5b33e7-7840-4fb9-9cfe-1ce94aec6c32",
   "metadata": {},
   "outputs": [],
   "source": [
    "print(\"Mazen Mounir\")"
   ]
  },
  {
   "cell_type": "markdown",
   "id": "bf7e0c2e-df2d-4083-b563-a614089667a6",
   "metadata": {},
   "source": [
    "# Printing String in two lines"
   ]
  },
  {
   "cell_type": "code",
   "execution_count": null,
   "id": "4139f964-8842-4829-8c67-38ea9fb77214",
   "metadata": {},
   "outputs": [],
   "source": [
    "print(\"Mazen\")\n",
    "print(\"Mounir\")"
   ]
  },
  {
   "cell_type": "markdown",
   "id": "53d9a5f3-5fac-4de2-ac37-4fafa0c934a4",
   "metadata": {},
   "source": [
    "# Printing String in two lines in one print"
   ]
  },
  {
   "cell_type": "code",
   "execution_count": null,
   "id": "a96b2f9f-014e-46a2-b1a8-06ad65854383",
   "metadata": {},
   "outputs": [],
   "source": [
    "print(\"Mazen\\nMounir\")"
   ]
  },
  {
   "cell_type": "markdown",
   "id": "41879397-7a14-47c1-b16e-5c33bd81eb1d",
   "metadata": {},
   "source": [
    "# <span style=\"color:Red\">Errors\n",
    "## Error types:\n",
    "###  Syntax Error\n",
    "###  Logic Error"
   ]
  },
  {
   "cell_type": "markdown",
   "id": "3987ec6d-811b-4ef4-bc65-723bc0cb7c38",
   "metadata": {},
   "source": [
    "# <b><span style=color:#770fe5>Syntax:\n",
    "Syntax is the coding grammer and writing rules"
   ]
  },
  {
   "cell_type": "code",
   "execution_count": null,
   "id": "de99f349-e96a-4d5a-a237-df13d40420e1",
   "metadata": {},
   "outputs": [],
   "source": [
    "Print(\"Mazen\")"
   ]
  },
  {
   "cell_type": "code",
   "execution_count": null,
   "id": "e37c5919-4ff6-4d8f-ac65-c22d257d0125",
   "metadata": {},
   "outputs": [],
   "source": [
    "print(Mazen)"
   ]
  },
  {
   "cell_type": "code",
   "execution_count": null,
   "id": "29ec255a-03aa-4040-9165-ec81c0974053",
   "metadata": {},
   "outputs": [],
   "source": [
    "print Mazen"
   ]
  },
  {
   "cell_type": "code",
   "execution_count": null,
   "id": "9355c4a2-bfa4-4c89-a6c5-dd24a43156fd",
   "metadata": {},
   "outputs": [],
   "source": [
    "print[\"Mazen\"]"
   ]
  },
  {
   "cell_type": "code",
   "execution_count": null,
   "id": "3f745d50-056c-43fc-a981-724a872cc8b0",
   "metadata": {},
   "outputs": [],
   "source": [
    "print{\"Mazen\"}"
   ]
  },
  {
   "cell_type": "markdown",
   "id": "a1b6c573-1fe8-40e2-a534-64c665a95f77",
   "metadata": {},
   "source": [
    "# <b><span style=color:#770fe5>What is a variable?\n",
    "Variable is like a box that holding a thing. Example: x=\n",
    "Box holding numbers\n",
    "### <b>Types of numbers:\n",
    "Integers -> 1 2 3 4     ...etc: Integers is a whole numbers and their negative.\n",
    "Float -> 1.53 1.1 5.2   ...etc: Float is any number with decimal point and their negative.\n",
    "Complex -> 1+2j 3j 2-j  ...etc</span>: Complex is imaginary number by adding j and j=sqrt(-1)\n",
    "## <b>Box holding letters\n",
    "letters in programming called char and when we combine more than char we get string\n",
    "String is anything between \" \" or ' '\n",
    "## `'A'` `'a'` `\"B\"` `'b'` `'1'` `\"2\"` `'121341'` `\"Mazen\"` all these are strings"
   ]
  },
  {
   "cell_type": "code",
   "execution_count": null,
   "id": "95f46593-4a28-4622-8f63-a6f01224af13",
   "metadata": {},
   "outputs": [],
   "source": [
    "Name=\"Mazen Mounir\"\n",
    "Job=\"Instructor\"\n",
    "Age=25"
   ]
  },
  {
   "cell_type": "code",
   "execution_count": null,
   "id": "87ffd284-c5c0-4ae9-b1be-500c0ba36b50",
   "metadata": {},
   "outputs": [],
   "source": [
    "print(\"Username =\",Name)"
   ]
  },
  {
   "cell_type": "code",
   "execution_count": null,
   "id": "6ff5c1aa-a9e4-42f5-be23-137f8a33e8b9",
   "metadata": {},
   "outputs": [],
   "source": [
    "print(\"Position= \",Job)"
   ]
  },
  {
   "cell_type": "code",
   "execution_count": null,
   "id": "e881d47d-16c0-43dd-bb5f-30dc6a86e304",
   "metadata": {},
   "outputs": [],
   "source": [
    "print(\"Age=\",Age)"
   ]
  },
  {
   "cell_type": "code",
   "execution_count": null,
   "id": "ec2556ce-f468-4bca-b517-c382c6dbcb8a",
   "metadata": {},
   "outputs": [],
   "source": [
    "print(Name,Age,Job)"
   ]
  },
  {
   "cell_type": "markdown",
   "id": "6fc1effb-80ea-430f-a605-c270a955153e",
   "metadata": {},
   "source": [
    "# <span style=\"color:Red\">Logic Error"
   ]
  },
  {
   "cell_type": "code",
   "execution_count": null,
   "id": "18d22d90-13fb-490f-be03-d25c41862b4f",
   "metadata": {},
   "outputs": [],
   "source": [
    "print(\"Name\")"
   ]
  },
  {
   "cell_type": "code",
   "execution_count": null,
   "id": "c5416e81-abc6-495f-941a-7aaffbdd7579",
   "metadata": {},
   "outputs": [],
   "source": [
    "print(\"Job\")"
   ]
  },
  {
   "cell_type": "markdown",
   "id": "e3e01f41-ff21-4e94-b305-061a6096817a",
   "metadata": {},
   "source": [
    "# <b><span style=color:#770fe5>String"
   ]
  },
  {
   "cell_type": "code",
   "execution_count": null,
   "id": "d1e6218c-61e1-4944-987b-8c26d030af5a",
   "metadata": {},
   "outputs": [],
   "source": [
    "STR1='MAZEN MMGMH'"
   ]
  },
  {
   "cell_type": "markdown",
   "id": "390323db-eb2e-4f0a-8194-ecbfa84be6f7",
   "metadata": {},
   "source": [
    "# <b><span style=color:#770fe5>String Index\n",
    "## 'MAZEN'\n",
    "### M in index 0\n",
    "### A in index 1\n",
    "### Z in index 2\n",
    "### E in index 3\n",
    "### N in index 4"
   ]
  },
  {
   "cell_type": "code",
   "execution_count": null,
   "id": "68555759-81ce-4ea8-a023-2a16655c66c0",
   "metadata": {},
   "outputs": [],
   "source": [
    "print(STR1[0])\n",
    "print(STR1[1])\n",
    "print(STR1[2])\n",
    "print(STR1[3])\n",
    "print(STR1[4])"
   ]
  },
  {
   "cell_type": "markdown",
   "id": "619d7941-6fb0-4bd8-a4bb-8d4c7dc54526",
   "metadata": {},
   "source": [
    "# <b><span style=color:#770fe5>String Slicing\n",
    "## [Start:End:Step]\n",
    "### Start: The index of the first letter to include in the slice.\n",
    "### End: The index of the letter to stop before.\n",
    "### Step: The interval between elements to include in the slice.\n",
    "### Example:"
   ]
  },
  {
   "cell_type": "code",
   "execution_count": null,
   "id": "afb7a2a3-8aad-429d-a793-1c7fa83bad2c",
   "metadata": {},
   "outputs": [],
   "source": [
    "STR1='MAZEN MMGMH'\n",
    "print(STR1[0:10:1])"
   ]
  },
  {
   "cell_type": "markdown",
   "id": "88e87a18-d899-4e4f-a5fd-27f089df7f0b",
   "metadata": {},
   "source": [
    "### To Fix it:"
   ]
  },
  {
   "cell_type": "code",
   "execution_count": null,
   "id": "061c8dff-ffd5-4776-ac99-09d809b7a9a5",
   "metadata": {},
   "outputs": [],
   "source": [
    "print(STR1[0:11:1])"
   ]
  },
  {
   "cell_type": "markdown",
   "id": "eb0c69a3-838e-4127-8062-37e05b5a2c7c",
   "metadata": {},
   "source": [
    "## <span style=color:#dc5e5e>Increase Step"
   ]
  },
  {
   "cell_type": "code",
   "execution_count": null,
   "id": "64bea953-b9e5-47da-ab56-52e71000c776",
   "metadata": {},
   "outputs": [],
   "source": [
    "print(STR1[0:10:2])"
   ]
  },
  {
   "cell_type": "markdown",
   "id": "2dbbfa74-4c59-467f-b027-8f71ee735948",
   "metadata": {},
   "source": [
    "## <span style=color:#dc5e5e>Reverse the string"
   ]
  },
  {
   "cell_type": "code",
   "execution_count": null,
   "id": "de69667e-4193-4884-87f2-8f0bd4816a5d",
   "metadata": {},
   "outputs": [],
   "source": [
    "print(STR1[::-1])"
   ]
  },
  {
   "cell_type": "markdown",
   "id": "91325e35-e5f9-4ad8-8479-a87629615b48",
   "metadata": {},
   "source": [
    "## <span style=color:#dc5e5e>Print whole string with step of 1"
   ]
  },
  {
   "cell_type": "code",
   "execution_count": null,
   "id": "dac5d000-3d2a-4074-8d51-27b443414dfa",
   "metadata": {},
   "outputs": [],
   "source": [
    "print(STR1[::1])\n",
    "#change 1 to any number"
   ]
  },
  {
   "cell_type": "markdown",
   "id": "9bc33aa6-7367-47c1-b3c6-cf677e5d9856",
   "metadata": {},
   "source": [
    "## Some Examples:"
   ]
  },
  {
   "cell_type": "code",
   "execution_count": null,
   "id": "e927252c-bec0-4bd6-81ad-a677e4b13040",
   "metadata": {},
   "outputs": [],
   "source": [
    "STR1='MAZEN MMGMH'\n",
    "print(STR1[0:5])\n",
    "print(STR1[:-1])\n",
    "print(STR1[4:0:-1])\n",
    "print(STR1[4::-1])\n",
    "#Search for more and lets discuss"
   ]
  },
  {
   "cell_type": "markdown",
   "id": "0edc9b47-038c-49b3-b825-32e223bd4ba8",
   "metadata": {},
   "source": [
    "## <span style=color:#dc5e5e>String concatenate"
   ]
  },
  {
   "cell_type": "code",
   "execution_count": null,
   "id": "98f03a94-d374-473b-b557-6d9d1d13c868",
   "metadata": {},
   "outputs": [],
   "source": [
    "STR1='MAZEN MMGMH'\n",
    "STR2=\"mounir\"\n",
    "print(STR1+STR2)"
   ]
  },
  {
   "cell_type": "code",
   "execution_count": null,
   "id": "dde36688-6e7e-4f5c-b1aa-42fbf8d19f0b",
   "metadata": {},
   "outputs": [],
   "source": [
    "print(STR1+\" \"+STR2)"
   ]
  },
  {
   "cell_type": "markdown",
   "id": "186930f4-c970-4169-8c85-9d973c8da9e0",
   "metadata": {},
   "source": [
    "## <span style=color:#dc5e5e>More than print and output in 1 line"
   ]
  },
  {
   "cell_type": "code",
   "execution_count": null,
   "id": "9412a1f3-b2f9-4b18-a926-cf5a6b9fb7f8",
   "metadata": {},
   "outputs": [],
   "source": [
    "print(\"Hello\",end=' ')\n",
    "print(\"World\")"
   ]
  },
  {
   "cell_type": "markdown",
   "id": "8229ace8-15d8-4920-898f-469d60d0d955",
   "metadata": {},
   "source": [
    "# <b><span style=color:#770fe5>String Methods\n",
    "## <span style=color:#dc5e5e>capitalize()\n",
    "### it converts the first letter to upper case and the other letters to small"
   ]
  },
  {
   "cell_type": "code",
   "execution_count": null,
   "id": "77f90570-c590-4c5f-b761-72e400bd0726",
   "metadata": {},
   "outputs": [],
   "source": [
    "STR1='MAZEN MMGMH'\n",
    "STR2=\"mounir\"\n",
    "print(STR2.capitalize())\n",
    "print(STR1.capitalize())"
   ]
  },
  {
   "cell_type": "markdown",
   "id": "088f8ef7-9d00-496e-bb52-3609c7d7c939",
   "metadata": {},
   "source": [
    "## <span style=color:#dc5e5e>endswith()\n",
    "### it compares the last letter in the string with the letter you write in the ()\n",
    "### if found it returns true if not it returns false"
   ]
  },
  {
   "cell_type": "code",
   "execution_count": null,
   "id": "45ad9265-d9f1-4442-a382-b97ec0705cfe",
   "metadata": {},
   "outputs": [],
   "source": [
    "print(STR1.endswith('N'))"
   ]
  },
  {
   "cell_type": "code",
   "execution_count": null,
   "id": "d6418e35-c8b2-4b3e-9c50-01512bbf99da",
   "metadata": {},
   "outputs": [],
   "source": [
    "print(STR1.endswith('n'))"
   ]
  },
  {
   "cell_type": "markdown",
   "id": "8e502c82-76db-48cc-b171-767147b11220",
   "metadata": {},
   "source": [
    "## <span style=color:#dc5e5e>find()\n",
    "### it returns the index of the written in the bracket and returns -1 if not found"
   ]
  },
  {
   "cell_type": "code",
   "execution_count": null,
   "id": "17fdd379-393f-4a1b-9bca-ea45adc22146",
   "metadata": {},
   "outputs": [],
   "source": [
    "print(STR1.find('M'))\n",
    "print(STR1.find('e'))"
   ]
  },
  {
   "cell_type": "markdown",
   "id": "aacfab07-5984-4d99-ad3d-880a25bf5818",
   "metadata": {},
   "source": [
    "## <span style=color:#dc5e5e>index()\n",
    "### returns the index of the writtent in the bracket and makes error if not found"
   ]
  },
  {
   "cell_type": "code",
   "execution_count": null,
   "id": "ca498a2d-3428-4339-9f3d-33f9146f0ca6",
   "metadata": {},
   "outputs": [],
   "source": [
    "print(STR1.find('M'))\n",
    "print(STR1.index('e'))"
   ]
  },
  {
   "cell_type": "markdown",
   "id": "75d637e9-2d9b-4600-a746-e69ce5194384",
   "metadata": {},
   "source": [
    "## <span style=color:#dc5e5e>isalpha()\n",
    "### returns true if all string are alphabet only\n",
    "## <span style=color:#dc5e5e>isdigit()\n",
    "### return true if all string are digits"
   ]
  },
  {
   "cell_type": "code",
   "execution_count": null,
   "id": "9a917d83-9e07-4dd1-a1a5-9a8bde54b9bc",
   "metadata": {},
   "outputs": [],
   "source": [
    "STR1='MAZEN MMGMH'\n",
    "STR2=\"mounir\"\n",
    "print(STR1.isalpha())"
   ]
  },
  {
   "cell_type": "code",
   "execution_count": null,
   "id": "cdc7377a-c161-4802-a547-3427d2ba52d2",
   "metadata": {},
   "outputs": [],
   "source": [
    "print(STR2.isalpha())"
   ]
  },
  {
   "cell_type": "code",
   "execution_count": null,
   "id": "54b8b673-3550-42f6-ba98-79fdd3071b32",
   "metadata": {},
   "outputs": [],
   "source": [
    "print(STR1.isdigit())\n",
    "x='123'\n",
    "print(\"\",x.isdigit())"
   ]
  },
  {
   "cell_type": "code",
   "execution_count": null,
   "id": "63057a8d-089f-4e5a-9c59-469da0220272",
   "metadata": {},
   "outputs": [],
   "source": [
    "STR3='    Instructor'\n",
    "STR4='Python     '\n",
    "STR5='    Robokid Academy   '\n",
    "STR6=\"####Hey####\""
   ]
  },
  {
   "cell_type": "markdown",
   "id": "e32676c6-099e-4f5f-a600-2599c1f6d911",
   "metadata": {},
   "source": [
    "## <span style=color:#dc5e5e>strip()\n",
    "### it removes Leading spaces and Trailling spaces\n",
    "### it also removes any thing you put inside brackets\n",
    "## <span style=color:#dc5e5e>rstrip() \n",
    "### it removes from right\n",
    "## <span style=color:#dc5e5e>lstrip() \n",
    "### it removes from left"
   ]
  },
  {
   "cell_type": "code",
   "execution_count": null,
   "id": "8702cfa3-7c7d-43ef-9ad3-375c5410d1a2",
   "metadata": {},
   "outputs": [],
   "source": [
    "print(STR3.strip())"
   ]
  },
  {
   "cell_type": "code",
   "execution_count": null,
   "id": "c777eba2-0243-4d7a-8e06-010017862a6c",
   "metadata": {},
   "outputs": [],
   "source": [
    "print(STR4.strip()+STR1)"
   ]
  },
  {
   "cell_type": "code",
   "execution_count": null,
   "id": "957a1948-c2fb-4a7a-b283-56eaadbc7abb",
   "metadata": {},
   "outputs": [],
   "source": [
    "print(STR5.strip()+STR1)"
   ]
  },
  {
   "cell_type": "code",
   "execution_count": null,
   "id": "bea8ae40-d4a3-494a-872e-e49d24439ee3",
   "metadata": {},
   "outputs": [],
   "source": [
    "print(STR6.strip('#'))"
   ]
  },
  {
   "cell_type": "markdown",
   "id": "f6990a2f-6538-410f-9bb5-3886c2bf3cba",
   "metadata": {},
   "source": [
    "## <span style=color:#dc5e5e>split()\n",
    "### Splits the string at the specified separator"
   ]
  },
  {
   "cell_type": "code",
   "execution_count": null,
   "id": "f0eafbec-bbc2-48c2-b548-f0aba7361cbf",
   "metadata": {},
   "outputs": [],
   "source": [
    "print(STR3.split('r'))"
   ]
  },
  {
   "cell_type": "code",
   "execution_count": null,
   "id": "90951088-0eec-4f73-a189-9678272c1329",
   "metadata": {},
   "outputs": [],
   "source": [
    "print(STR6.split('#'))"
   ]
  },
  {
   "cell_type": "markdown",
   "id": "e9444484-1e31-40a0-8c94-1b20724b4606",
   "metadata": {},
   "source": [
    "## <span style=color:#dc5e5e>range()\n",
    "### `range(start,end)`\n",
    "### creates a range from start to end\n",
    "### `range(number)`\n",
    "### creates a range from 0 to number"
   ]
  },
  {
   "cell_type": "code",
   "execution_count": null,
   "id": "d1714942-d1a5-4449-8246-ad70e2cf610c",
   "metadata": {},
   "outputs": [],
   "source": [
    "print(range(2,9))"
   ]
  },
  {
   "cell_type": "code",
   "execution_count": null,
   "id": "045c459b-439e-4f78-8fc8-5c6a240223c8",
   "metadata": {},
   "outputs": [],
   "source": [
    "print(range(9))"
   ]
  },
  {
   "cell_type": "markdown",
   "id": "160f7815-0521-4bef-b7fb-024c546fa1b7",
   "metadata": {},
   "source": [
    "## <span style=color:#dc5e5e>len()\n",
    "### `len(Text)`\n",
    "### it returns the Text length"
   ]
  },
  {
   "cell_type": "code",
   "execution_count": null,
   "id": "586eccfa-3e1c-4f58-8f44-16bb5bcae9f8",
   "metadata": {},
   "outputs": [],
   "source": [
    "Name=\"Hello World\"\n",
    "print(len(Name))"
   ]
  },
  {
   "cell_type": "markdown",
   "id": "0bb739b5-0ed9-4b84-9314-192614d75137",
   "metadata": {},
   "source": [
    "# <span style=color:#770fe5>Check variable data type"
   ]
  },
  {
   "cell_type": "code",
   "execution_count": null,
   "id": "1f7c7bf1-020d-4cff-a4c2-8be2110e7bd3",
   "metadata": {},
   "outputs": [],
   "source": [
    "x=10\n",
    "y=3.1\n",
    "k=2+3j\n",
    "u='a'"
   ]
  },
  {
   "cell_type": "code",
   "execution_count": null,
   "id": "09f87934-12b6-412f-b833-9df99da648cb",
   "metadata": {},
   "outputs": [],
   "source": [
    "print(type(x))"
   ]
  },
  {
   "cell_type": "code",
   "execution_count": null,
   "id": "8f4f6fbf-92ee-431a-87a9-8de526e5e31b",
   "metadata": {},
   "outputs": [],
   "source": [
    "print(type(y))"
   ]
  },
  {
   "cell_type": "code",
   "execution_count": null,
   "id": "ee3305f8-f76f-46b3-9b18-e746431e0701",
   "metadata": {},
   "outputs": [],
   "source": [
    "print(type(u))"
   ]
  },
  {
   "cell_type": "code",
   "execution_count": null,
   "id": "5e4783f8-44f4-456e-8c25-ad7cfd8cc1cf",
   "metadata": {},
   "outputs": [],
   "source": [
    "print(type(k))"
   ]
  },
  {
   "cell_type": "markdown",
   "id": "a1d878e3-9a8d-4e2a-9cf9-e5dd9e6a6ce7",
   "metadata": {},
   "source": [
    "# <span style=color:#770fe5>User Input\n",
    "for example if we want to create a calculator the user must enter the numbers"
   ]
  },
  {
   "cell_type": "code",
   "execution_count": null,
   "id": "c56d6e8c-0f56-45ef-87d7-8709950c0372",
   "metadata": {},
   "outputs": [],
   "source": [
    "First_Number=input(\"Enter First Number: \")"
   ]
  },
  {
   "cell_type": "markdown",
   "id": "1cafcc44-c477-46f6-a3af-467bde45682c",
   "metadata": {},
   "source": [
    "### input its a method the takes data from user\n",
    "### input(\"Here Enter a messege to appear for user\")"
   ]
  },
  {
   "cell_type": "code",
   "execution_count": null,
   "id": "e89f9472-8382-4dc2-a836-8a36366297fc",
   "metadata": {},
   "outputs": [],
   "source": [
    "Second_Number=input(\"Enter Second Number: \")"
   ]
  },
  {
   "cell_type": "code",
   "execution_count": null,
   "id": "38a07b4b-0a1a-4dad-be98-fda9727c83b2",
   "metadata": {},
   "outputs": [],
   "source": [
    "print(First_Number+Second_Number)"
   ]
  },
  {
   "cell_type": "markdown",
   "id": "99ddb532-3208-4e64-a435-91e8b754405a",
   "metadata": {},
   "source": [
    "## <span style=color:#dc5e5e>Check input data type"
   ]
  },
  {
   "cell_type": "code",
   "execution_count": null,
   "id": "d8441c85-63c5-4c8c-9dca-2509ff5bd919",
   "metadata": {},
   "outputs": [],
   "source": [
    "print(type(First_Number))"
   ]
  },
  {
   "cell_type": "markdown",
   "id": "990fd926-4971-4ad8-96b7-7dc1ec05332b",
   "metadata": {},
   "source": [
    "## By default input is str"
   ]
  },
  {
   "cell_type": "markdown",
   "id": "8b90f1fe-ff0c-4401-8e31-742046d6c824",
   "metadata": {},
   "source": [
    "# <span style=color:#770fe5>Casting:\n",
    "## Casting is to change data type to another\n",
    "### `int()`\n",
    "### `float()`\n",
    "### `str()`\n",
    "## Search for more\n",
    "### <u><b>to fix earler problem to sum numbers from input:"
   ]
  },
  {
   "cell_type": "code",
   "execution_count": null,
   "id": "40f4f4ca-e44c-4a9b-966b-721e917e2d56",
   "metadata": {},
   "outputs": [],
   "source": [
    "First_Number=int(First_Number)\n",
    "Second_Number=int(Second_Number)"
   ]
  },
  {
   "cell_type": "code",
   "execution_count": null,
   "id": "8802273c-de3c-46db-a1b8-def8594a8b39",
   "metadata": {},
   "outputs": [],
   "source": [
    "print(type(First_Number))\n",
    "print(type(Second_Number))"
   ]
  },
  {
   "cell_type": "code",
   "execution_count": null,
   "id": "f54f9558-4f49-42f4-bb13-00a5b1d7b04b",
   "metadata": {},
   "outputs": [],
   "source": [
    "print(First_Number+Second_Number)"
   ]
  },
  {
   "cell_type": "markdown",
   "id": "75745ee0-966f-4385-b8b2-1cb8377894a1",
   "metadata": {},
   "source": [
    "## <b><u>Another way:"
   ]
  },
  {
   "cell_type": "code",
   "execution_count": null,
   "id": "9bf1977d-cffc-4031-85ed-3f6b5116ba56",
   "metadata": {},
   "outputs": [],
   "source": [
    "print(int(First_Number)+int(Second_Number))"
   ]
  },
  {
   "cell_type": "markdown",
   "id": "3ef73a04-30a7-456d-ab23-bb76d8e9f4f2",
   "metadata": {},
   "source": [
    "## <b><u>Note:\n",
    "### To make the user inputs to be only numbers use this\n",
    "## x=int(input(\"Enter Number\"))\n",
    "### This makes error when user enter anything other than numbers"
   ]
  },
  {
   "cell_type": "markdown",
   "id": "120e2f18-307c-48df-aefd-484a8c2f38fc",
   "metadata": {},
   "source": [
    "## <span style=color:#dc5e5e>format()\n",
    "### used to change numbers format :"
   ]
  },
  {
   "cell_type": "code",
   "execution_count": null,
   "id": "0d1cbf74-df10-486c-aba8-48cea6700f54",
   "metadata": {},
   "outputs": [],
   "source": [
    "number=1234.56789\n",
    "print(format(int(number),'x'))"
   ]
  },
  {
   "cell_type": "code",
   "execution_count": null,
   "id": "5bc09b3c-30a2-472c-90c0-fb82f5a434a2",
   "metadata": {},
   "outputs": [],
   "source": [
    "print(format(int(number),'b'))"
   ]
  },
  {
   "cell_type": "code",
   "execution_count": null,
   "id": "996880cc-2110-4771-a287-2d8e3bf3ca71",
   "metadata": {},
   "outputs": [],
   "source": [
    "print(\"Space Check\",format(number, '>20'),\"No Spacing\")"
   ]
  },
  {
   "cell_type": "code",
   "execution_count": null,
   "id": "c0a49c86-b027-46a7-97a2-96c2c2b91210",
   "metadata": {},
   "outputs": [],
   "source": [
    "print(\"No Spacing\",format(number,'<20'),\"Space Check\")"
   ]
  },
  {
   "cell_type": "code",
   "execution_count": null,
   "id": "ae1705a4-0c2c-44ba-8d80-bb63a2ebf6a2",
   "metadata": {},
   "outputs": [],
   "source": [
    "print(\"Space Check\",format(number,'^20'),\"Space Check\")"
   ]
  },
  {
   "cell_type": "markdown",
   "id": "708a088d-6851-4787-a5ba-5dba4a2bb98e",
   "metadata": {},
   "source": [
    "# <span style=color:#770fe5>Formating:\n",
    "## `%s` String\n",
    "## `%d` Integer\n",
    "## `%f` Float"
   ]
  },
  {
   "cell_type": "code",
   "execution_count": null,
   "id": "5b8c8905-4639-46cb-816a-cd74cbc3d20b",
   "metadata": {},
   "outputs": [],
   "source": [
    "Name=\"Mazen\"\n",
    "Grade=90.83\n",
    "Age=25"
   ]
  },
  {
   "cell_type": "code",
   "execution_count": null,
   "id": "56487636-7989-4555-b9b4-28bfd162f077",
   "metadata": {},
   "outputs": [],
   "source": [
    "print(\"My name is %s,im %d years old and Graduated with Grade=%f\"%(Name,Age,Grade))"
   ]
  },
  {
   "cell_type": "markdown",
   "id": "34e3760e-6c7d-4c17-9749-1a0c8e864261",
   "metadata": {},
   "source": [
    "## <span style=color:#dc5e5e>f-string formatting"
   ]
  },
  {
   "cell_type": "code",
   "execution_count": null,
   "id": "7c11df4b-9f74-4565-89df-696226ce005c",
   "metadata": {},
   "outputs": [],
   "source": [
    "Name=\"Mazen\"\n",
    "Grade=90.83\n",
    "Age=25"
   ]
  },
  {
   "cell_type": "code",
   "execution_count": null,
   "id": "0ea192f7-1515-402f-bd2b-b4cb78f86b27",
   "metadata": {},
   "outputs": [],
   "source": [
    "print(f\"My name is {Name},im {Age} years old and graduated with grade={Grade}\")"
   ]
  },
  {
   "cell_type": "code",
   "execution_count": null,
   "id": "03661e34-0266-4bba-86d8-cff8dd9ac3ca",
   "metadata": {},
   "outputs": [],
   "source": [
    "Word=f\"Hello Grade={Grade}\"\n",
    "print(Word)"
   ]
  },
  {
   "cell_type": "markdown",
   "id": "5a5c3d17-3404-4f5a-aa2e-ee5161524db2",
   "metadata": {},
   "source": [
    "# <span style=color:#770fe5>Arithmetic Operations"
   ]
  },
  {
   "cell_type": "code",
   "execution_count": null,
   "id": "73a983da-6e3b-4275-8006-d2da148b97fe",
   "metadata": {},
   "outputs": [],
   "source": [
    "x=10\n",
    "y=3.0\n",
    "print(x+y)"
   ]
  },
  {
   "cell_type": "code",
   "execution_count": null,
   "id": "fc1552b7-709e-4252-8af9-58d7d686576c",
   "metadata": {},
   "outputs": [],
   "source": [
    "x=10\n",
    "y=3.0\n",
    "print(x-y)\n"
   ]
  },
  {
   "cell_type": "code",
   "execution_count": null,
   "id": "9595a545-1e4c-42ae-8e12-9c93ae10e7af",
   "metadata": {},
   "outputs": [],
   "source": [
    "x=10\n",
    "y=3.0\n",
    "print(x*y)\n"
   ]
  },
  {
   "cell_type": "code",
   "execution_count": null,
   "id": "3f584f3b-5cae-4753-b776-c01ac8998832",
   "metadata": {},
   "outputs": [],
   "source": [
    "x=10\n",
    "y=2.0\n",
    "print(x**y)"
   ]
  },
  {
   "cell_type": "code",
   "execution_count": null,
   "id": "c9a22768-3eae-4e90-a42f-b984a79cbb3a",
   "metadata": {},
   "outputs": [],
   "source": [
    "x=10\n",
    "y=3.0\n",
    "print(x/y)\n"
   ]
  },
  {
   "cell_type": "code",
   "execution_count": null,
   "id": "59308b96-1cb8-4784-8bb8-a5a35c5227cd",
   "metadata": {},
   "outputs": [],
   "source": [
    "x=10\n",
    "y=3.0\n",
    "print(x//y)\n"
   ]
  },
  {
   "cell_type": "markdown",
   "id": "7c721933-2870-4792-9796-70b03050b5a9",
   "metadata": {
    "jp-MarkdownHeadingCollapsed": true
   },
   "source": [
    "## `+=` Ex: `x+=y` this means `x=x+y` if `x=3` and `y=2` then `x=3+2` the value of `x` changed to `5`\n",
    "## `-=` Ex: `x-=y` this means `x=x-y` if `x=3` and `y=2` then `x=3-2` the value of `x` changed to `1`\n",
    "## `*=` Ex: `x*=y` this means `x=x*y` if `x=3` and `y=2` then `x=3*2` the value of `x` changed to `6`\n",
    "## `**=` Ex: `x**=y` this means `x=x**y` if `x=3` and `y=2` then `x=3**2` the value of `x` changed to `9`\n",
    "## `/=` Ex: `x/=y` this means `x=x/y` if `x=6` and `y=2` then `x=6/2` the value of `x` changed to `3`"
   ]
  },
  {
   "cell_type": "markdown",
   "id": "a8e93440-f7a3-48e3-b39b-c24c3a28c7a9",
   "metadata": {},
   "source": [
    "# <span style=color:#770fe5><b>Precedence and Associativity"
   ]
  },
  {
   "cell_type": "markdown",
   "id": "0be89ccd-79d6-4899-a022-dd801f7b60a1",
   "metadata": {},
   "source": [
    "## <span style='color:#46e059'>Precedence Operators with higher precedence are evaluated before operators with lower precedence\n",
    "## <span style='color:#46e059'>Associativity when there is same precedence calculate the result from right to left or left to right\n",
    "### Brackets `()`\n",
    "### Power `**`\n",
    "### Unary operators `+x`,`-x`\n",
    "### mul,div,floor div,modulus `*`,`/`,`//`,`%`\n",
    "### plus,minus `+`,`-`\n",
    "https://www.programiz.com/python-programming/precedence-associativity"
   ]
  },
  {
   "cell_type": "markdown",
   "id": "8fce020c-ad98-4885-bcaf-0d07c26a9b48",
   "metadata": {
    "jp-MarkdownHeadingCollapsed": true
   },
   "source": [
    "# <span style=color:#770fe5><b>Task \n",
    "## ask user to enter 2 numbers and print\n",
    "## Sum,Multiply of the 2 numbers"
   ]
  },
  {
   "cell_type": "markdown",
   "id": "bb488363-b458-4e1e-bde7-6cf6dbb6335f",
   "metadata": {},
   "source": [
    "# <span style='color:#770fe5'><b>if condition\n",
    "## used to ask a question "
   ]
  },
  {
   "cell_type": "code",
   "execution_count": null,
   "id": "2b37886d-a452-4f61-a54a-dc6dba609f7d",
   "metadata": {},
   "outputs": [],
   "source": [
    "Value=int(input(\"Enter Number\"))"
   ]
  },
  {
   "cell_type": "code",
   "execution_count": null,
   "id": "108f3fb4-f1a6-4e27-bb49-63f7aa44ee7e",
   "metadata": {},
   "outputs": [],
   "source": [
    "if Value==1:\n",
    "    print(\"One\")\n",
    "elif Value==2:\n",
    "    print(\"Two\")\n",
    "elif Value==3:\n",
    "    print(\"Three\")\n",
    "else:\n",
    "    print(\"Another Number\")\n"
   ]
  },
  {
   "cell_type": "markdown",
   "id": "5bfbc2f3-1208-477b-8377-8a2838c571ea",
   "metadata": {},
   "source": [
    "# <span style=\"color:#770fe5\"><b><u>Indentation</u></b></span>\n",
    "## It is used to let the code know which step we are in.\n",
    "## For example, if you want to ask a question:\n",
    "### if x == 1:\n",
    "### print(\"the condition is true\")\n",
    "### print(\"Done\")\n",
    "## What makes Python understand that `print(\"the condition is true\")` is inside the `if` statement and `print(\"Done\")` is outside the `if` statement is the indentation:\n",
    "if x == 1:\n",
    "     print(\"the condition is true\")\n",
    "print(\"Done\")\n",
    "## That's why we need to understand indentation.\n",
    "# <span style='color:Red'><b><u>Note:</u></b></span>\n",
    "## Extra or incorrect indentation can cause errors, which could be syntax or logic errors."
   ]
  },
  {
   "cell_type": "markdown",
   "id": "c2d3a66c-28e8-4230-ad49-744d59b4409e",
   "metadata": {},
   "source": [
    "## Condition:\n",
    "### Ask for equality `==`\n",
    "### Ask for not equal `!=`\n",
    "### Ask for less than `<`\n",
    "### Ask for greater than `>`\n",
    "### Ask for less than or equal `<=`\n",
    "### Ask for greater than or equal `>=`\n",
    "### `not` used to negates the result\n",
    "### for example `not x < y`\n",
    "### `in` used to check if in the entered values\n",
    "### for example `'m' in 'mazen'`"
   ]
  },
  {
   "cell_type": "code",
   "execution_count": null,
   "id": "13df0a13-9874-4a03-a7db-88e0e68574f7",
   "metadata": {},
   "outputs": [],
   "source": [
    "Value_1 =15\n",
    "Value_2 =20\n",
    "Value_3 =15"
   ]
  },
  {
   "cell_type": "code",
   "execution_count": null,
   "id": "e2c1cc95-723a-4ace-abdf-51904ddbaa3b",
   "metadata": {},
   "outputs": [],
   "source": [
    "if Value_1 == Value_2:\n",
    "    print(\"Equals\")\n",
    "elif Value_1 < Value_2:\n",
    "    print(\"Less\")\n",
    "else:\n",
    "    print(\"Greater\")"
   ]
  },
  {
   "cell_type": "code",
   "execution_count": null,
   "id": "9296f0d8-c5ab-4146-8436-1945498ebb11",
   "metadata": {},
   "outputs": [],
   "source": [
    "if not Value_1  > Value_2:\n",
    "    print(\"Value_1 not greater than Value_2\")"
   ]
  },
  {
   "cell_type": "code",
   "execution_count": null,
   "id": "ff525b6c-7682-4599-ac3b-9bcddc3f97e7",
   "metadata": {},
   "outputs": [],
   "source": [
    "read=input(\"enter anything\")\n",
    "if 'M' in read:\n",
    "    print(\"M Found\")"
   ]
  },
  {
   "cell_type": "markdown",
   "id": "385d1907-0405-4edb-ae9e-3e016714dfb3",
   "metadata": {
    "jp-MarkdownHeadingCollapsed": true
   },
   "source": [
    "# <span style=color:#770fe5><b>Task \n",
    "## Create Calculator using if condition"
   ]
  },
  {
   "cell_type": "markdown",
   "id": "885c2363-19f5-43ce-aad2-458dec44b625",
   "metadata": {},
   "source": [
    "# <span style='color:#0072e3'><b><u>Extra\n",
    "## Nested if"
   ]
  },
  {
   "cell_type": "code",
   "execution_count": null,
   "id": "cf5e2e35-942d-45e8-99e5-a4f5c6c2609a",
   "metadata": {},
   "outputs": [],
   "source": [
    "Name='Mazen'\n",
    "Name_Length=5\n",
    "if 'z' in Name:\n",
    "    if Name_Length==5:\n",
    "        print(\"z found and Name_Length is 5\")\n",
    "    else:\n",
    "        print(\"z found but Name_Length not 5\")\n",
    "else:\n",
    "    print(\"z not found\")"
   ]
  },
  {
   "cell_type": "markdown",
   "id": "ee0eb697-5fdb-4c33-9ac8-861daa932b02",
   "metadata": {},
   "source": [
    "# <span style='color:#0072e3'><b><u>Logic Operators\n",
    "## `and`\n",
    "## Example: `x==1 and y==1` returns True if both sides are true\n",
    "## `or`\n",
    "## Example: `x==1 or y==1` returns True if at least one side is true\n",
    "## `not`\n",
    "## Example: `not x>1` its false that mean negates the value "
   ]
  },
  {
   "cell_type": "code",
   "execution_count": null,
   "id": "428f9da5-1e61-46b4-afd5-e94fb2324cbf",
   "metadata": {},
   "outputs": [],
   "source": [
    "Name=\"Mazen\"\n",
    "Name_Length=5\n",
    "if 'M' in Name and Name_Length==5:\n",
    "    print(\"M Found in Name and Length is 5\")\n"
   ]
  },
  {
   "cell_type": "markdown",
   "id": "22971480-c9c4-499e-9510-9be8923cf963",
   "metadata": {},
   "source": [
    "# <span style=color:#770fe5><b>Modulus\n",
    "## `%` it return reminder\n",
    "## <span style='color:Red'><b><u>Extra and not Necessary\n",
    "### Example: \n",
    "### `7%2=1` how that:\n",
    "### `7/2=3.5`\n",
    "### `int(3.5)*2=6`\n",
    "### `6-7=1`"
   ]
  },
  {
   "cell_type": "code",
   "execution_count": null,
   "id": "9e847215-7d29-472f-beb6-93b4c75de173",
   "metadata": {},
   "outputs": [],
   "source": [
    "print(0%2)\n",
    "print(1%2)\n",
    "print(2%2)\n",
    "print(3%2)\n",
    "print(4%2)\n",
    "print(5%2)\n",
    "print(6%2)\n",
    "print(7%2)\n",
    "print(8%2)\n",
    "print(9%2)\n",
    "print(10%2)"
   ]
  },
  {
   "cell_type": "markdown",
   "id": "f62c6350-197f-4fdd-b9c0-1f9598f12ded",
   "metadata": {},
   "source": [
    "# <span style='color:Red'><b><u>What did you found in the last example?"
   ]
  },
  {
   "cell_type": "markdown",
   "id": "c39feca7-4005-4214-87d5-f9c0269c9295",
   "metadata": {},
   "source": [
    "# <span style=color:#770fe5><b><u>Loops:\n",
    "## Loops are used to repeat a sequence of code for a certain number of times.\n",
    "## <span style=color:#dc5e5e>While Loop `while`"
   ]
  },
  {
   "cell_type": "code",
   "execution_count": null,
   "id": "d92d4efc-b7c1-4c27-9e70-4772506261bc",
   "metadata": {},
   "outputs": [],
   "source": [
    "i=0\n",
    "while i < 5:\n",
    "    print(i)\n",
    "    i+=1"
   ]
  },
  {
   "cell_type": "markdown",
   "id": "59491cc2-e005-4c88-92eb-a7d1a99f4b89",
   "metadata": {},
   "source": [
    "# <span style='color:red'><b><u>Infinity Loop:\n",
    "## It's a loop that doesnt have an end \n",
    "### Example:\n",
    "```\n",
    "while i<5:\n",
    "    print(i)\n",
    "    i=0\n",
    "```\n",
    "### To fix it you need to use break \n",
    "## fixed in the Following Example:"
   ]
  },
  {
   "cell_type": "code",
   "execution_count": 35,
   "id": "5aac2e2f-7da8-4753-b179-4461f56c6ac4",
   "metadata": {},
   "outputs": [
    {
     "name": "stdout",
     "output_type": "stream",
     "text": [
      "Hello\n",
      "Hello\n",
      "Hello\n",
      "Hello\n",
      "Hello\n",
      "Hello\n",
      "Hello\n",
      "Hello\n",
      "Hello\n",
      "Hello\n"
     ]
    }
   ],
   "source": [
    "i=0\n",
    "while True:\n",
    "    print(\"Hello\")\n",
    "    i+=1\n",
    "    if i==10:\n",
    "        break"
   ]
  },
  {
   "cell_type": "markdown",
   "id": "9cb63f9c-0002-4a14-beac-68c5c80cb068",
   "metadata": {},
   "source": [
    "## <span style=color:#dc5e5e>For loop `for`:"
   ]
  },
  {
   "cell_type": "code",
   "execution_count": 36,
   "id": "dad5c30d-c4c1-49b6-8db7-1f107c1ffaca",
   "metadata": {},
   "outputs": [
    {
     "name": "stdout",
     "output_type": "stream",
     "text": [
      "0\n",
      "1\n",
      "2\n",
      "3\n",
      "4\n"
     ]
    }
   ],
   "source": [
    "i=0\n",
    "for i in range(5):\n",
    "    print(i)"
   ]
  },
  {
   "cell_type": "code",
   "execution_count": 37,
   "id": "f4e7b2ff-3e17-449d-ba46-9766c66278b6",
   "metadata": {},
   "outputs": [
    {
     "name": "stdout",
     "output_type": "stream",
     "text": [
      "M\n",
      "a\n",
      "z\n",
      "e\n",
      "n\n",
      "M a z e n "
     ]
    }
   ],
   "source": [
    "Name='Mazen'\n",
    "i=0\n",
    "for i in range(len(Name)):\n",
    "    print(Name[i])\n",
    "\n",
    "for i in range(len(Name)):\n",
    "    print(Name[i],end=' ')"
   ]
  },
  {
   "cell_type": "code",
   "execution_count": 38,
   "id": "abfa192d-2bdf-4cc7-9ab3-c0c10325eb29",
   "metadata": {},
   "outputs": [
    {
     "name": "stdout",
     "output_type": "stream",
     "text": [
      "\n",
      "0 \n",
      "0 1 \n",
      "0 1 2 \n",
      "0 1 2 3 \n"
     ]
    }
   ],
   "source": [
    "i=0\n",
    "x=0\n",
    "for i in range(5) :\n",
    "    for x in range(i):\n",
    "        print(x,end=' ')\n",
    "    print()"
   ]
  },
  {
   "cell_type": "markdown",
   "id": "c6c36a15-ba46-44f8-807a-cd6c61e98159",
   "metadata": {},
   "source": [
    "# <b><span style=color:#770fe5>List: []\n",
    "## List used to store items.\n",
    "### List Properties=>\n",
    "### Mutable: You can change elements (add, remove, update).\n",
    "### Ordered: Elements have a specific order, and you can access elements by index.\n",
    "### Duplicates Allowed: Lists can have duplicate elements."
   ]
  },
  {
   "cell_type": "code",
   "execution_count": 183,
   "id": "7e923c9f-0600-41cc-aae7-2474037166dc",
   "metadata": {},
   "outputs": [],
   "source": [
    "Fruits=[\"Apple\",\"orange\",\"kiwi\"]"
   ]
  },
  {
   "cell_type": "code",
   "execution_count": 145,
   "id": "b0b0ff7d-bdce-42e1-bc91-683271fc3f3e",
   "metadata": {},
   "outputs": [
    {
     "name": "stdout",
     "output_type": "stream",
     "text": [
      "<class 'list'>\n"
     ]
    }
   ],
   "source": [
    "print(type(Fruits))"
   ]
  },
  {
   "cell_type": "code",
   "execution_count": 146,
   "id": "036e9392-7253-453d-b419-9a2b7efd5842",
   "metadata": {},
   "outputs": [
    {
     "name": "stdout",
     "output_type": "stream",
     "text": [
      "['Apple', 'orange', 'kiwi']\n"
     ]
    }
   ],
   "source": [
    "print(Fruits)"
   ]
  },
  {
   "cell_type": "code",
   "execution_count": 147,
   "id": "7297f866-2a90-41d7-8460-3ce83b9868b2",
   "metadata": {},
   "outputs": [
    {
     "name": "stdout",
     "output_type": "stream",
     "text": [
      "Apple\n"
     ]
    }
   ],
   "source": [
    "print(Fruits[0])"
   ]
  },
  {
   "cell_type": "code",
   "execution_count": 148,
   "id": "82aa0be7-96ec-4584-a9c1-7121090243e4",
   "metadata": {},
   "outputs": [
    {
     "name": "stdout",
     "output_type": "stream",
     "text": [
      "orange\n"
     ]
    }
   ],
   "source": [
    "print(Fruits[1])"
   ]
  },
  {
   "cell_type": "code",
   "execution_count": 149,
   "id": "cb91c82e-8964-4a24-9550-155ddc0aefbb",
   "metadata": {},
   "outputs": [
    {
     "name": "stdout",
     "output_type": "stream",
     "text": [
      "kiwi\n"
     ]
    }
   ],
   "source": [
    "print(Fruits[2])"
   ]
  },
  {
   "cell_type": "code",
   "execution_count": 150,
   "id": "f0da68fa-859e-49b0-af1d-cbdfe0a3dabb",
   "metadata": {},
   "outputs": [
    {
     "name": "stdout",
     "output_type": "stream",
     "text": [
      "kiwi\n"
     ]
    }
   ],
   "source": [
    "print(Fruits[-1])"
   ]
  },
  {
   "cell_type": "code",
   "execution_count": 151,
   "id": "1e00ebfe-c6d0-48dd-97d8-2cd09c818d9b",
   "metadata": {},
   "outputs": [
    {
     "name": "stdout",
     "output_type": "stream",
     "text": [
      "orange\n"
     ]
    }
   ],
   "source": [
    "print(Fruits[-2])"
   ]
  },
  {
   "cell_type": "code",
   "execution_count": 152,
   "id": "e048d239-9a05-4574-9a9b-ad68730e9f62",
   "metadata": {},
   "outputs": [
    {
     "name": "stdout",
     "output_type": "stream",
     "text": [
      "Apple\n"
     ]
    }
   ],
   "source": [
    "print(Fruits[-3])"
   ]
  },
  {
   "cell_type": "code",
   "execution_count": 153,
   "id": "b23a90e4-751f-483a-82b5-97a13df8ff9c",
   "metadata": {},
   "outputs": [
    {
     "name": "stdout",
     "output_type": "stream",
     "text": [
      "3\n"
     ]
    }
   ],
   "source": [
    "print(len(Fruits))"
   ]
  },
  {
   "cell_type": "code",
   "execution_count": 154,
   "id": "fd3b3a28-a412-48ee-9c05-fc1573eb0092",
   "metadata": {},
   "outputs": [
    {
     "name": "stdout",
     "output_type": "stream",
     "text": [
      "['Apple', 'orange', 'kiwi']\n"
     ]
    }
   ],
   "source": [
    "print(Fruits)"
   ]
  },
  {
   "cell_type": "markdown",
   "id": "31174bf5-0254-47d4-b270-f89cd1f0c5dd",
   "metadata": {},
   "source": [
    "## <span style=color:#dc5e5e>append()\n",
    "### Adds an item to the end of the list"
   ]
  },
  {
   "cell_type": "code",
   "execution_count": 168,
   "id": "cfa81335-9190-42f6-8e09-1149b50820e4",
   "metadata": {},
   "outputs": [],
   "source": [
    "Fruits.append(\"Pineapple\")"
   ]
  },
  {
   "cell_type": "code",
   "execution_count": 169,
   "id": "bd4feb72-eeaa-46c2-ba5c-d62075b7a0dc",
   "metadata": {},
   "outputs": [
    {
     "name": "stdout",
     "output_type": "stream",
     "text": [
      "['Apple', 'orange', 'kiwi', 'Pineapple']\n"
     ]
    }
   ],
   "source": [
    "print(Fruits)"
   ]
  },
  {
   "cell_type": "markdown",
   "id": "18f695b3-1405-46ae-a7a0-4b2c64697cb4",
   "metadata": {},
   "source": [
    "## <span style=color:#dc5e5e>extend()\n",
    "### Extends the list with a list to the end of the list"
   ]
  },
  {
   "cell_type": "code",
   "execution_count": 184,
   "id": "50e48aaa-cc02-44db-a193-275394cbb6b0",
   "metadata": {},
   "outputs": [],
   "source": [
    "Fruits.extend([\"Watermelon\"])"
   ]
  },
  {
   "cell_type": "code",
   "execution_count": 185,
   "id": "cf1f8cde-e76f-41e0-9b4a-6acd2ebafe03",
   "metadata": {},
   "outputs": [
    {
     "name": "stdout",
     "output_type": "stream",
     "text": [
      "['Apple', 'orange', 'kiwi', 'Watermelon']\n"
     ]
    }
   ],
   "source": [
    "print(Fruits)"
   ]
  },
  {
   "cell_type": "code",
   "execution_count": 187,
   "id": "0f244170-7c10-4f08-9747-acb9fd32254d",
   "metadata": {},
   "outputs": [],
   "source": [
    "Fruits.extend([\"Berry\",\"Blueberry\",\"Strawberry\"])"
   ]
  },
  {
   "cell_type": "code",
   "execution_count": 188,
   "id": "1647597f-a6c9-4a88-86b3-5f9062fc23a1",
   "metadata": {},
   "outputs": [
    {
     "name": "stdout",
     "output_type": "stream",
     "text": [
      "['Apple', 'orange', 'kiwi', 'Watermelon', 'Berry', 'Blueberry', 'Strawberry']\n"
     ]
    }
   ],
   "source": [
    "print(Fruits)"
   ]
  },
  {
   "cell_type": "markdown",
   "id": "d94f487f-f9fa-4e54-98f6-b5525d39f695",
   "metadata": {},
   "source": [
    "## <span style=color:#dc5e5e>pop()\n",
    "### Remove the last element and return it"
   ]
  },
  {
   "cell_type": "code",
   "execution_count": 190,
   "id": "3831432f-741e-468b-bf61-9febdf9e8018",
   "metadata": {},
   "outputs": [
    {
     "data": {
      "text/plain": [
       "'Strawberry'"
      ]
     },
     "execution_count": 190,
     "metadata": {},
     "output_type": "execute_result"
    }
   ],
   "source": [
    "Fruits.pop()"
   ]
  },
  {
   "cell_type": "code",
   "execution_count": 191,
   "id": "b2058cb7-ccf1-42ee-9c4f-839c774b0f89",
   "metadata": {},
   "outputs": [
    {
     "name": "stdout",
     "output_type": "stream",
     "text": [
      "['Apple', 'orange', 'kiwi', 'Watermelon', 'Berry', 'Blueberry']\n"
     ]
    }
   ],
   "source": [
    "print(Fruits)"
   ]
  },
  {
   "cell_type": "code",
   "execution_count": 192,
   "id": "3a90a6cd-9d83-48a7-9f36-032b9c02103a",
   "metadata": {},
   "outputs": [],
   "source": [
    "Fruits.reverse()"
   ]
  },
  {
   "cell_type": "code",
   "execution_count": 193,
   "id": "bcca0c38-c0f7-4ef8-b763-a8f4070ab76d",
   "metadata": {},
   "outputs": [
    {
     "name": "stdout",
     "output_type": "stream",
     "text": [
      "['Blueberry', 'Berry', 'Watermelon', 'kiwi', 'orange', 'Apple']\n"
     ]
    }
   ],
   "source": [
    "print(Fruits)"
   ]
  },
  {
   "cell_type": "code",
   "execution_count": 194,
   "id": "4c4ec609-71a0-4c34-8c10-dde1cac08aa4",
   "metadata": {},
   "outputs": [],
   "source": [
    "Fruits.sort()"
   ]
  },
  {
   "cell_type": "code",
   "execution_count": 195,
   "id": "f772c1d5-632a-4840-ba17-47f4a3394b85",
   "metadata": {},
   "outputs": [
    {
     "name": "stdout",
     "output_type": "stream",
     "text": [
      "['Apple', 'Berry', 'Blueberry', 'Watermelon', 'kiwi', 'orange']\n"
     ]
    }
   ],
   "source": [
    "print(Fruits)"
   ]
  },
  {
   "cell_type": "code",
   "execution_count": null,
   "id": "9e224627-4326-43b1-9915-026d5ad6f239",
   "metadata": {},
   "outputs": [],
   "source": []
  }
 ],
 "metadata": {
  "kernelspec": {
   "display_name": "Python 3 (ipykernel)",
   "language": "python",
   "name": "python3"
  },
  "language_info": {
   "codemirror_mode": {
    "name": "ipython",
    "version": 3
   },
   "file_extension": ".py",
   "mimetype": "text/x-python",
   "name": "python",
   "nbconvert_exporter": "python",
   "pygments_lexer": "ipython3",
   "version": "3.12.2"
  }
 },
 "nbformat": 4,
 "nbformat_minor": 5
}
