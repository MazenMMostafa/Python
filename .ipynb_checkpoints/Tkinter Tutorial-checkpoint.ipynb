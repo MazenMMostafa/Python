{
 "cells": [
  {
   "cell_type": "markdown",
   "id": "9cdb2b67-e5b0-4a80-b1fc-eaecb3301ccc",
   "metadata": {},
   "source": [
    "1. Introduction to Tkinter\n",
    "\n",
    "Tkinter is Python's standard GUI (Graphical User Interface) library. It is used to create windows, dialogs, buttons, and other user interface components.\n",
    "\n",
    "To start using Tkinter, you first need to import the module and create the root window."
   ]
  },
  {
   "cell_type": "code",
   "execution_count": null,
   "id": "3a7ca792-71a3-4ecf-bd09-5ab079e165d5",
   "metadata": {},
   "outputs": [],
   "source": [
    "#Import Tkinter and Create the Main Window\n",
    "import tkinter as tk\n",
    "\n",
    "# Create the root window\n",
    "root = tk.Tk()\n",
    "\n",
    "# Set the window title\n",
    "root.title(\"Tkinter Demo\")\n",
    "\n",
    "# Set window size\n",
    "root.geometry(\"400x300\")\n",
    "\n",
    "# Run the Tkinter event loop\n",
    "root.mainloop()\n"
   ]
  },
  {
   "cell_type": "markdown",
   "id": "bfc9e185-d0fa-4fdc-8a3e-30868796c355",
   "metadata": {},
   "source": [
    "2. Adding a Label\n",
    "\n",
    "A label in Tkinter is used to display text or images. You can configure the font, size, color, and more."
   ]
  },
  {
   "cell_type": "code",
   "execution_count": null,
   "id": "8ae15cf4-41b3-4554-8804-71fb9855e48f",
   "metadata": {},
   "outputs": [],
   "source": [
    "import tkinter as tk\n",
    "\n",
    "# Create the root window\n",
    "root = tk.Tk()\n",
    "root.title(\"Label Example\")\n",
    "root.geometry(\"400x300\")\n",
    "\n",
    "# Create a label\n",
    "label = tk.Label(root, text=\"Hello, Tkinter!\", font=(\"Arial\", 16), fg=\"blue\")\n",
    "label.pack(pady=20)  # Adds padding to the label and centers it\n",
    "\n",
    "# Run the Tkinter event loop\n",
    "root.mainloop()\n"
   ]
  },
  {
   "cell_type": "markdown",
   "id": "35a26fbe-b54d-4857-9ad1-5633e79097d8",
   "metadata": {},
   "source": [
    "# <span style=color:violet>Positions"
   ]
  },
  {
   "cell_type": "markdown",
   "id": "8b8e2856-ece4-4342-8899-ea9d339a2482",
   "metadata": {},
   "source": [
    "## <span style=color:purple>pack()"
   ]
  },
  {
   "cell_type": "code",
   "execution_count": 4,
   "id": "96051829-6fe4-4a0a-9b56-2a7f1498425e",
   "metadata": {},
   "outputs": [],
   "source": [
    "import tkinter as tk\n",
    "\n",
    "root = tk.Tk()\n",
    "root.title(\"Labels with Pack Layout\")\n",
    "root.geometry(\"300x200\")\n",
    "\n",
    "# Label aligned to the top\n",
    "label_top = tk.Label(root, text=\"Top Label\", bg=\"lightblue\")\n",
    "label_top.pack(side=\"top\", fill=\"x\")\n",
    "\n",
    "# Label aligned to the bottom\n",
    "label_bottom = tk.Label(root, text=\"Bottom Label\", bg=\"lightgreen\")\n",
    "label_bottom.pack(side=\"bottom\", fill=\"x\")\n",
    "\n",
    "# Label aligned to the left\n",
    "label_left = tk.Label(root, text=\"Left Label\", bg=\"lightyellow\")\n",
    "label_left.pack(side=\"left\", fill=\"y\")\n",
    "\n",
    "# Label aligned to the right\n",
    "label_right = tk.Label(root, text=\"Right Label\", bg=\"lightcoral\")\n",
    "label_right.pack(side=\"right\", fill=\"y\")\n",
    "\n",
    "root.mainloop()\n"
   ]
  },
  {
   "cell_type": "markdown",
   "id": "7f5259a2-6b37-4307-b2d0-70dcb2e75f8f",
   "metadata": {},
   "source": [
    "## <span style=color:purple> grid()"
   ]
  },
  {
   "cell_type": "code",
   "execution_count": 16,
   "id": "79163737-bc55-4f96-af67-4ffb5d84366c",
   "metadata": {},
   "outputs": [],
   "source": [
    "import tkinter as tk\n",
    "\n",
    "root = tk.Tk()\n",
    "root.title(\"Grid Layout Visualization\")\n",
    "root.geometry(\"300x200\")\n",
    "\n",
    "# Function to create labeled grid cells with borders\n",
    "def create_grid_label(row, col, text, color):\n",
    "    label = tk.Label(root, text=text, bg=color, relief=\"solid\", borderwidth=1)\n",
    "    label.grid(row=row, column=col, padx=5, pady=5, ipadx=10, ipady=10)\n",
    "\n",
    "# Creating grid labels with borders\n",
    "create_grid_label(0, 0, \"R0, C0\", \"lightblue\")\n",
    "create_grid_label(0, 1, \"R0, C1\", \"lightgreen\")\n",
    "create_grid_label(1, 0, \"R1, C0\", \"lightyellow\")\n",
    "create_grid_label(1, 1, \"R1, C1\", \"lightcoral\")\n",
    "create_grid_label(2, 0, \"R2, C0\", \"lightgrey\")\n",
    "create_grid_label(2, 1, \"R2, C1\", \"lightpink\")\n",
    "create_grid_label(2, 1, \"R2, C1\", \"lightpink\")\n",
    "create_grid_label(2, 1, \"R2, C1\", \"lightpink\")\n",
    "root.mainloop()\n"
   ]
  },
  {
   "cell_type": "markdown",
   "id": "db171d46-8de1-48be-a3d5-fda82a437f7c",
   "metadata": {},
   "source": [
    "## <span style=color:purple>place(x,y)"
   ]
  },
  {
   "cell_type": "code",
   "execution_count": 22,
   "id": "45a3dd7a-a0ec-47ec-94c4-878ce53d7b07",
   "metadata": {},
   "outputs": [],
   "source": [
    "import tkinter as tk\n",
    "\n",
    "root = tk.Tk()\n",
    "root.title(\"Labels with Place Layout\")\n",
    "root.geometry(\"300x200\")\n",
    "def setLabelPosition(x,y,txt,color):\n",
    "    label=tk.Label(root,text=txt,bg=color)\n",
    "    label.place(x=x,y=y)\n",
    "    \n",
    "# Labels placed at exact coordinates\n",
    "setLabelPosition(20,20,\"Label 1 at (20, 20)\",\"lightblue\")\n",
    "setLabelPosition(100,50,\"Label 2 at (100, 50)\", \"lightgreen\")\n",
    "setLabelPosition(180,100,\"Label 3 at (180, 100)\", \"lightyellow\")\n",
    "setLabelPosition(50,150,\"Label 4 at (50, 150)\", \"lightcoral\")\n",
    "\n",
    "root.mainloop()\n"
   ]
  },
  {
   "cell_type": "markdown",
   "id": "8a82e7f5-4daf-41ac-ad5a-9f33e9c4a713",
   "metadata": {},
   "source": [
    "3. Adding a Button\n",
    "\n",
    "Buttons allow users to trigger actions. We can bind a function to a button click."
   ]
  },
  {
   "cell_type": "code",
   "execution_count": null,
   "id": "c08859b6-7ae0-4f6f-a340-a1fa16b5e913",
   "metadata": {},
   "outputs": [],
   "source": [
    "import tkinter as tk\n",
    "\n",
    "# Function to be called when the button is clicked\n",
    "def on_button_click():\n",
    "    label.config(text=\"Button Clicked!\")\n",
    "\n",
    "# Create the root window\n",
    "root = tk.Tk()\n",
    "root.title(\"Button Example\")\n",
    "root.geometry(\"400x300\")\n",
    "\n",
    "# Create a label and button\n",
    "label = tk.Label(root, text=\"Press the button\", font=(\"Arial\", 16))\n",
    "label.pack(pady=20)\n",
    "\n",
    "button = tk.Button(root, text=\"Click Me\", command=on_button_click)\n",
    "button.pack(pady=10)\n",
    "\n",
    "# Run the Tkinter event loop\n",
    "root.mainloop()\n"
   ]
  },
  {
   "cell_type": "markdown",
   "id": "fd7f5066-824a-4e38-9412-2806147021e5",
   "metadata": {},
   "source": [
    "Multiple Buttons"
   ]
  },
  {
   "cell_type": "code",
   "execution_count": 1,
   "id": "1833c3be-44dd-4dbf-82aa-7c45258035ed",
   "metadata": {},
   "outputs": [],
   "source": [
    "import tkinter as tk\n",
    "\n",
    "# Function to handle first button click\n",
    "def on_first_button_click():\n",
    "    text1 = entry1.get()\n",
    "    text2 = entry2.get()\n",
    "    label.config(text=f\"Button 1: Text1: {text1}, Text2: {text2}\")\n",
    "\n",
    "# Function to handle second button click\n",
    "def on_second_button_click():\n",
    "    text1 = entry1.get()\n",
    "    text2 = entry2.get()\n",
    "    label.config(text=f\"Button 2: Text1: {text1}, Text2: {text2}\")\n",
    "\n",
    "# Create the root window\n",
    "root = tk.Tk()\n",
    "root.title(\"Multiple Buttons and Text Entries\")\n",
    "root.geometry(\"400x300\")\n",
    "\n",
    "# Create Labels\n",
    "label_entry1 = tk.Label(root, text=\"Text Entry 1:\")\n",
    "label_entry2 = tk.Label(root, text=\"Text Entry 2:\")\n",
    "\n",
    "# Create Entry Widgets (Text Inputs)\n",
    "entry1 = tk.Entry(root, font=(\"Arial\", 14))\n",
    "entry2 = tk.Entry(root, font=(\"Arial\", 14))\n",
    "\n",
    "# Create Buttons\n",
    "button1 = tk.Button(root, text=\"Button 1\", command=on_first_button_click)\n",
    "button2 = tk.Button(root, text=\"Button 2\", command=on_second_button_click)\n",
    "\n",
    "# Create a Label to display the results\n",
    "label = tk.Label(root, text=\"\", font=(\"Arial\", 16))\n",
    "\n",
    "# Organize Widgets using grid layout\n",
    "label_entry1.grid(row=0, column=0, padx=10, pady=5)\n",
    "entry1.grid(row=0, column=1, padx=10, pady=5)\n",
    "\n",
    "label_entry2.grid(row=1, column=0, padx=10, pady=5)\n",
    "entry2.grid(row=1, column=1, padx=10, pady=5)\n",
    "\n",
    "button1.grid(row=2, column=0, padx=10, pady=10)\n",
    "button2.grid(row=2, column=1, padx=10, pady=10)\n",
    "\n",
    "label.grid(row=3, column=0, columnspan=2, pady=20)\n",
    "\n",
    "# Run the Tkinter event loop\n",
    "root.mainloop()\n"
   ]
  },
  {
   "cell_type": "markdown",
   "id": "02e72cf2-7ffc-4dc8-b487-b9737def87a9",
   "metadata": {},
   "source": [
    "4. Input with Entry (Text Box)\n",
    "\n",
    "The Entry widget is used to get text input from the user. You can bind buttons to retrieve this input."
   ]
  },
  {
   "cell_type": "code",
   "execution_count": null,
   "id": "3841fdb4-5f84-487a-aa23-2f5a39bf2ce0",
   "metadata": {},
   "outputs": [],
   "source": [
    "import tkinter as tk\n",
    "\n",
    "# Function to retrieve input from the entry box\n",
    "def display_text():\n",
    "    user_input = entry.get()  # Get the text entered by the user\n",
    "    label.config(text=f\"You entered: {user_input}\")\n",
    "\n",
    "# Create the root window\n",
    "root = tk.Tk()\n",
    "root.title(\"Entry Example\")\n",
    "root.geometry(\"400x300\")\n",
    "\n",
    "# Create a label, entry (input field), and button\n",
    "label = tk.Label(root, text=\"Enter some text:\", font=(\"Arial\", 16))\n",
    "label.pack(pady=10)\n",
    "\n",
    "entry = tk.Entry(root, font=(\"Arial\", 14))\n",
    "entry.pack(pady=10)\n",
    "\n",
    "button = tk.Button(root, text=\"Submit\", command=display_text)\n",
    "button.pack(pady=10)\n",
    "\n",
    "# Run the Tkinter event loop\n",
    "root.mainloop()\n"
   ]
  },
  {
   "cell_type": "markdown",
   "id": "58e5bbba-46c2-40ec-9f81-83ded346747c",
   "metadata": {},
   "source": [
    "5. Adding Multiple Widgets\n",
    "\n",
    "You can organize multiple widgets (buttons, labels, entry boxes) using layout managers like pack, grid, or place."
   ]
  },
  {
   "cell_type": "code",
   "execution_count": null,
   "id": "75898cf9-fd4f-4ee4-9be6-5f99b37321ef",
   "metadata": {},
   "outputs": [],
   "source": [
    "import tkinter as tk\n",
    "\n",
    "# Function to display input\n",
    "def display_info():\n",
    "    info = f\"Name: {entry_name.get()}\\nAge: {entry_age.get()}\"\n",
    "    label.config(text=info)\n",
    "\n",
    "# Create the root window\n",
    "root = tk.Tk()\n",
    "root.title(\"Grid Layout Example\")\n",
    "root.geometry(\"400x300\")\n",
    "\n",
    "# Create widgets\n",
    "label_name = tk.Label(root, text=\"Name:\")\n",
    "label_age = tk.Label(root, text=\"Age:\")\n",
    "entry_name = tk.Entry(root)\n",
    "entry_age = tk.Entry(root)\n",
    "button = tk.Button(root, text=\"Submit\", command=display_info)\n",
    "label = tk.Label(root, text=\"\", font=(\"Arial\", 16))\n",
    "\n",
    "# Place widgets using grid layout\n",
    "label_name.grid(row=0, column=0, padx=10, pady=5)\n",
    "entry_name.grid(row=0, column=1, padx=10, pady=5)\n",
    "label_age.grid(row=1, column=0, padx=10, pady=5)\n",
    "entry_age.grid(row=1, column=1, padx=10, pady=5)\n",
    "button.grid(row=2, column=0, columnspan=2, pady=10)\n",
    "label.grid(row=3, column=0, columnspan=2, pady=20)\n",
    "\n",
    "# Run the Tkinter event loop\n",
    "root.mainloop()\n"
   ]
  },
  {
   "cell_type": "code",
   "execution_count": null,
   "id": "9661e42b-882a-4c3d-8f06-89e5d0a62ba3",
   "metadata": {},
   "outputs": [],
   "source": []
  }
 ],
 "metadata": {
  "kernelspec": {
   "display_name": "Python 3 (ipykernel)",
   "language": "python",
   "name": "python3"
  },
  "language_info": {
   "codemirror_mode": {
    "name": "ipython",
    "version": 3
   },
   "file_extension": ".py",
   "mimetype": "text/x-python",
   "name": "python",
   "nbconvert_exporter": "python",
   "pygments_lexer": "ipython3",
   "version": "3.12.2"
  }
 },
 "nbformat": 4,
 "nbformat_minor": 5
}
